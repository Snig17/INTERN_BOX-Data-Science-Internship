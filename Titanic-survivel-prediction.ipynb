{
 "cells": [
  {
   "cell_type": "markdown",
   "id": "63abfb52",
   "metadata": {
    "papermill": {
     "duration": 0.016729,
     "end_time": "2023-01-26T20:02:01.427854",
     "exception": false,
     "start_time": "2023-01-26T20:02:01.411125",
     "status": "completed"
    },
    "tags": []
   },
   "source": [
    "# Titanic Survivel Prediction"
   ]
  },
  {
   "cell_type": "code",
   "execution_count": 1,
   "id": "90e9dd43",
   "metadata": {
    "execution": {
     "iopub.execute_input": "2023-01-26T20:02:01.460017Z",
     "iopub.status.busy": "2023-01-26T20:02:01.459227Z",
     "iopub.status.idle": "2023-01-26T20:02:02.572066Z",
     "shell.execute_reply": "2023-01-26T20:02:02.570783Z"
    },
    "papermill": {
     "duration": 1.132193,
     "end_time": "2023-01-26T20:02:02.574975",
     "exception": false,
     "start_time": "2023-01-26T20:02:01.442782",
     "status": "completed"
    },
    "tags": []
   },
   "outputs": [],
   "source": [
    "import pandas as pd\n",
    "import seaborn as sns\n",
    "import warnings\n",
    "import matplotlib.pyplot as plt\n",
    "warnings.filterwarnings(\"ignore\")"
   ]
  },
  {
   "cell_type": "code",
   "execution_count": 2,
   "id": "e072be39",
   "metadata": {
    "execution": {
     "iopub.execute_input": "2023-01-26T20:02:02.607466Z",
     "iopub.status.busy": "2023-01-26T20:02:02.607045Z",
     "iopub.status.idle": "2023-01-26T20:02:02.632119Z",
     "shell.execute_reply": "2023-01-26T20:02:02.630678Z"
    },
    "papermill": {
     "duration": 0.044322,
     "end_time": "2023-01-26T20:02:02.634817",
     "exception": false,
     "start_time": "2023-01-26T20:02:02.590495",
     "status": "completed"
    },
    "tags": []
   },
   "outputs": [],
   "source": [
    "df1=pd.read_csv(\"file path\")"
   ]
  },
  {
   "cell_type": "code",
   "execution_count": 3,
   "id": "c9daa432",
   "metadata": {
    "execution": {
     "iopub.execute_input": "2023-01-26T20:02:02.664952Z",
     "iopub.status.busy": "2023-01-26T20:02:02.664286Z",
     "iopub.status.idle": "2023-01-26T20:02:02.677633Z",
     "shell.execute_reply": "2023-01-26T20:02:02.676373Z"
    },
    "papermill": {
     "duration": 0.031536,
     "end_time": "2023-01-26T20:02:02.680211",
     "exception": false,
     "start_time": "2023-01-26T20:02:02.648675",
     "status": "completed"
    },
    "tags": []
   },
   "outputs": [],
   "source": [
    "df2=pd.read_csv(\"/kaggle/input/titanic/test.csv\")"
   ]
  },
  {
   "cell_type": "markdown",
   "id": "855dcdc0",
   "metadata": {
    "papermill": {
     "duration": 0.014022,
     "end_time": "2023-01-26T20:02:02.708140",
     "exception": false,
     "start_time": "2023-01-26T20:02:02.694118",
     "status": "completed"
    },
    "tags": []
   },
   "source": [
    "# EDA"
   ]
  },
  {
   "cell_type": "code",
   "execution_count": 3,
   "id": "5d6e14f0",
   "metadata": {
    "execution": {
     "iopub.execute_input": "2023-01-26T20:02:02.737548Z",
     "iopub.status.busy": "2023-01-26T20:02:02.737131Z",
     "iopub.status.idle": "2023-01-26T20:02:02.744869Z",
     "shell.execute_reply": "2023-01-26T20:02:02.744061Z"
    },
    "papermill": {
     "duration": 0.026031,
     "end_time": "2023-01-26T20:02:02.747906",
     "exception": false,
     "start_time": "2023-01-26T20:02:02.721875",
     "status": "completed"
    },
    "tags": []
   },
   "outputs": [
    {
     "data": {
      "text/plain": [
       "(418, 2)"
      ]
     },
     "execution_count": 3,
     "metadata": {},
     "output_type": "execute_result"
    }
   ],
   "source": [
    "df1.shape"
   ]
  },
  {
   "cell_type": "code",
   "execution_count": 5,
   "id": "800bf2fe",
   "metadata": {
    "execution": {
     "iopub.execute_input": "2023-01-26T20:02:02.778282Z",
     "iopub.status.busy": "2023-01-26T20:02:02.777418Z",
     "iopub.status.idle": "2023-01-26T20:02:02.784361Z",
     "shell.execute_reply": "2023-01-26T20:02:02.783210Z"
    },
    "papermill": {
     "duration": 0.024656,
     "end_time": "2023-01-26T20:02:02.786587",
     "exception": false,
     "start_time": "2023-01-26T20:02:02.761931",
     "status": "completed"
    },
    "tags": []
   },
   "outputs": [
    {
     "data": {
      "text/plain": [
       "(418, 11)"
      ]
     },
     "execution_count": 5,
     "metadata": {},
     "output_type": "execute_result"
    }
   ],
   "source": [
    "df2.shape"
   ]
  },
  {
   "cell_type": "code",
   "execution_count": 6,
   "id": "b0a096d4",
   "metadata": {
    "execution": {
     "iopub.execute_input": "2023-01-26T20:02:02.817974Z",
     "iopub.status.busy": "2023-01-26T20:02:02.817370Z",
     "iopub.status.idle": "2023-01-26T20:02:02.839434Z",
     "shell.execute_reply": "2023-01-26T20:02:02.838263Z"
    },
    "papermill": {
     "duration": 0.040978,
     "end_time": "2023-01-26T20:02:02.841689",
     "exception": false,
     "start_time": "2023-01-26T20:02:02.800711",
     "status": "completed"
    },
    "tags": []
   },
   "outputs": [
    {
     "data": {
      "text/html": [
       "<div>\n",
       "<style scoped>\n",
       "    .dataframe tbody tr th:only-of-type {\n",
       "        vertical-align: middle;\n",
       "    }\n",
       "\n",
       "    .dataframe tbody tr th {\n",
       "        vertical-align: top;\n",
       "    }\n",
       "\n",
       "    .dataframe thead th {\n",
       "        text-align: right;\n",
       "    }\n",
       "</style>\n",
       "<table border=\"1\" class=\"dataframe\">\n",
       "  <thead>\n",
       "    <tr style=\"text-align: right;\">\n",
       "      <th></th>\n",
       "      <th>PassengerId</th>\n",
       "      <th>Survived</th>\n",
       "      <th>Pclass</th>\n",
       "      <th>Name</th>\n",
       "      <th>Sex</th>\n",
       "      <th>Age</th>\n",
       "      <th>SibSp</th>\n",
       "      <th>Parch</th>\n",
       "      <th>Ticket</th>\n",
       "      <th>Fare</th>\n",
       "      <th>Cabin</th>\n",
       "      <th>Embarked</th>\n",
       "    </tr>\n",
       "  </thead>\n",
       "  <tbody>\n",
       "    <tr>\n",
       "      <th>887</th>\n",
       "      <td>888</td>\n",
       "      <td>1</td>\n",
       "      <td>1</td>\n",
       "      <td>Graham, Miss. Margaret Edith</td>\n",
       "      <td>female</td>\n",
       "      <td>19.0</td>\n",
       "      <td>0</td>\n",
       "      <td>0</td>\n",
       "      <td>112053</td>\n",
       "      <td>30.0</td>\n",
       "      <td>B42</td>\n",
       "      <td>S</td>\n",
       "    </tr>\n",
       "  </tbody>\n",
       "</table>\n",
       "</div>"
      ],
      "text/plain": [
       "     PassengerId  Survived  Pclass                          Name     Sex  \\\n",
       "887          888         1       1  Graham, Miss. Margaret Edith  female   \n",
       "\n",
       "      Age  SibSp  Parch  Ticket  Fare Cabin Embarked  \n",
       "887  19.0      0      0  112053  30.0   B42        S  "
      ]
     },
     "execution_count": 6,
     "metadata": {},
     "output_type": "execute_result"
    }
   ],
   "source": [
    "df1.sample()"
   ]
  },
  {
   "cell_type": "code",
   "execution_count": 7,
   "id": "70e87943",
   "metadata": {
    "execution": {
     "iopub.execute_input": "2023-01-26T20:02:02.871663Z",
     "iopub.status.busy": "2023-01-26T20:02:02.871236Z",
     "iopub.status.idle": "2023-01-26T20:02:02.886663Z",
     "shell.execute_reply": "2023-01-26T20:02:02.885378Z"
    },
    "papermill": {
     "duration": 0.033068,
     "end_time": "2023-01-26T20:02:02.889009",
     "exception": false,
     "start_time": "2023-01-26T20:02:02.855941",
     "status": "completed"
    },
    "tags": []
   },
   "outputs": [
    {
     "data": {
      "text/html": [
       "<div>\n",
       "<style scoped>\n",
       "    .dataframe tbody tr th:only-of-type {\n",
       "        vertical-align: middle;\n",
       "    }\n",
       "\n",
       "    .dataframe tbody tr th {\n",
       "        vertical-align: top;\n",
       "    }\n",
       "\n",
       "    .dataframe thead th {\n",
       "        text-align: right;\n",
       "    }\n",
       "</style>\n",
       "<table border=\"1\" class=\"dataframe\">\n",
       "  <thead>\n",
       "    <tr style=\"text-align: right;\">\n",
       "      <th></th>\n",
       "      <th>PassengerId</th>\n",
       "      <th>Pclass</th>\n",
       "      <th>Name</th>\n",
       "      <th>Sex</th>\n",
       "      <th>Age</th>\n",
       "      <th>SibSp</th>\n",
       "      <th>Parch</th>\n",
       "      <th>Ticket</th>\n",
       "      <th>Fare</th>\n",
       "      <th>Cabin</th>\n",
       "      <th>Embarked</th>\n",
       "    </tr>\n",
       "  </thead>\n",
       "  <tbody>\n",
       "    <tr>\n",
       "      <th>179</th>\n",
       "      <td>1071</td>\n",
       "      <td>1</td>\n",
       "      <td>Compton, Mrs. Alexander Taylor (Mary Eliza Ing...</td>\n",
       "      <td>female</td>\n",
       "      <td>64.0</td>\n",
       "      <td>0</td>\n",
       "      <td>2</td>\n",
       "      <td>PC 17756</td>\n",
       "      <td>83.1583</td>\n",
       "      <td>E45</td>\n",
       "      <td>C</td>\n",
       "    </tr>\n",
       "  </tbody>\n",
       "</table>\n",
       "</div>"
      ],
      "text/plain": [
       "     PassengerId  Pclass                                               Name  \\\n",
       "179         1071       1  Compton, Mrs. Alexander Taylor (Mary Eliza Ing...   \n",
       "\n",
       "        Sex   Age  SibSp  Parch    Ticket     Fare Cabin Embarked  \n",
       "179  female  64.0      0      2  PC 17756  83.1583   E45        C  "
      ]
     },
     "execution_count": 7,
     "metadata": {},
     "output_type": "execute_result"
    }
   ],
   "source": [
    "df2.sample()"
   ]
  },
  {
   "cell_type": "code",
   "execution_count": 8,
   "id": "dff9e4a2",
   "metadata": {
    "execution": {
     "iopub.execute_input": "2023-01-26T20:02:02.919523Z",
     "iopub.status.busy": "2023-01-26T20:02:02.919099Z",
     "iopub.status.idle": "2023-01-26T20:02:02.931951Z",
     "shell.execute_reply": "2023-01-26T20:02:02.930942Z"
    },
    "papermill": {
     "duration": 0.030984,
     "end_time": "2023-01-26T20:02:02.934248",
     "exception": false,
     "start_time": "2023-01-26T20:02:02.903264",
     "status": "completed"
    },
    "tags": []
   },
   "outputs": [],
   "source": [
    "# We merged the two files. We have completed the missing data.\n",
    "df=df1.append(df2) "
   ]
  },
  {
   "cell_type": "code",
   "execution_count": 9,
   "id": "c59e8cf5",
   "metadata": {
    "execution": {
     "iopub.execute_input": "2023-01-26T20:02:02.964676Z",
     "iopub.status.busy": "2023-01-26T20:02:02.964294Z",
     "iopub.status.idle": "2023-01-26T20:02:02.970614Z",
     "shell.execute_reply": "2023-01-26T20:02:02.969393Z"
    },
    "papermill": {
     "duration": 0.024303,
     "end_time": "2023-01-26T20:02:02.972958",
     "exception": false,
     "start_time": "2023-01-26T20:02:02.948655",
     "status": "completed"
    },
    "tags": []
   },
   "outputs": [
    {
     "data": {
      "text/plain": [
       "(1309, 12)"
      ]
     },
     "execution_count": 9,
     "metadata": {},
     "output_type": "execute_result"
    }
   ],
   "source": [
    "df.shape"
   ]
  },
  {
   "cell_type": "code",
   "execution_count": 10,
   "id": "d3119448",
   "metadata": {
    "execution": {
     "iopub.execute_input": "2023-01-26T20:02:03.003057Z",
     "iopub.status.busy": "2023-01-26T20:02:03.002671Z",
     "iopub.status.idle": "2023-01-26T20:02:03.025274Z",
     "shell.execute_reply": "2023-01-26T20:02:03.024351Z"
    },
    "papermill": {
     "duration": 0.041136,
     "end_time": "2023-01-26T20:02:03.028475",
     "exception": false,
     "start_time": "2023-01-26T20:02:02.987339",
     "status": "completed"
    },
    "tags": []
   },
   "outputs": [
    {
     "name": "stdout",
     "output_type": "stream",
     "text": [
      "<class 'pandas.core.frame.DataFrame'>\n",
      "Int64Index: 1309 entries, 0 to 417\n",
      "Data columns (total 12 columns):\n",
      " #   Column       Non-Null Count  Dtype  \n",
      "---  ------       --------------  -----  \n",
      " 0   PassengerId  1309 non-null   int64  \n",
      " 1   Survived     891 non-null    float64\n",
      " 2   Pclass       1309 non-null   int64  \n",
      " 3   Name         1309 non-null   object \n",
      " 4   Sex          1309 non-null   object \n",
      " 5   Age          1046 non-null   float64\n",
      " 6   SibSp        1309 non-null   int64  \n",
      " 7   Parch        1309 non-null   int64  \n",
      " 8   Ticket       1309 non-null   object \n",
      " 9   Fare         1308 non-null   float64\n",
      " 10  Cabin        295 non-null    object \n",
      " 11  Embarked     1307 non-null   object \n",
      "dtypes: float64(3), int64(4), object(5)\n",
      "memory usage: 132.9+ KB\n"
     ]
    }
   ],
   "source": [
    "df.info()"
   ]
  },
  {
   "cell_type": "code",
   "execution_count": 11,
   "id": "b0e6aff4",
   "metadata": {
    "execution": {
     "iopub.execute_input": "2023-01-26T20:02:03.061514Z",
     "iopub.status.busy": "2023-01-26T20:02:03.060897Z",
     "iopub.status.idle": "2023-01-26T20:02:03.070236Z",
     "shell.execute_reply": "2023-01-26T20:02:03.069404Z"
    },
    "papermill": {
     "duration": 0.027253,
     "end_time": "2023-01-26T20:02:03.072424",
     "exception": false,
     "start_time": "2023-01-26T20:02:03.045171",
     "status": "completed"
    },
    "tags": []
   },
   "outputs": [
    {
     "data": {
      "text/plain": [
       "PassengerId       0\n",
       "Survived        418\n",
       "Pclass            0\n",
       "Name              0\n",
       "Sex               0\n",
       "Age             263\n",
       "SibSp             0\n",
       "Parch             0\n",
       "Ticket            0\n",
       "Fare              1\n",
       "Cabin          1014\n",
       "Embarked          2\n",
       "dtype: int64"
      ]
     },
     "execution_count": 11,
     "metadata": {},
     "output_type": "execute_result"
    }
   ],
   "source": [
    "df.isnull().sum()"
   ]
  },
  {
   "cell_type": "code",
   "execution_count": 12,
   "id": "51990255",
   "metadata": {
    "execution": {
     "iopub.execute_input": "2023-01-26T20:02:03.104142Z",
     "iopub.status.busy": "2023-01-26T20:02:03.103493Z",
     "iopub.status.idle": "2023-01-26T20:02:03.109270Z",
     "shell.execute_reply": "2023-01-26T20:02:03.108179Z"
    },
    "papermill": {
     "duration": 0.02475,
     "end_time": "2023-01-26T20:02:03.111704",
     "exception": false,
     "start_time": "2023-01-26T20:02:03.086954",
     "status": "completed"
    },
    "tags": []
   },
   "outputs": [
    {
     "data": {
      "text/plain": [
       "0.774637127578304"
      ]
     },
     "execution_count": 12,
     "metadata": {},
     "output_type": "execute_result"
    }
   ],
   "source": [
    "1014/1309\n",
    "# If it is more than 20% empty, you can delete that column."
   ]
  },
  {
   "cell_type": "markdown",
   "id": "4ed75608",
   "metadata": {
    "papermill": {
     "duration": 0.015028,
     "end_time": "2023-01-26T20:02:03.141842",
     "exception": false,
     "start_time": "2023-01-26T20:02:03.126814",
     "status": "completed"
    },
    "tags": []
   },
   "source": [
    "# Methods for Filling Blank Data\n",
    "\n",
    "1-Mean - Average\n",
    "2-Median - Median\n",
    "3-Nearest neighbor KNN - Nearest data\n",
    "4-Regression\n",
    "5-Fforward\n",
    "6-backword\n",
    "7-It fills with the most appropriate data."
   ]
  },
  {
   "cell_type": "code",
   "execution_count": 13,
   "id": "2ab910c4",
   "metadata": {
    "execution": {
     "iopub.execute_input": "2023-01-26T20:02:03.173865Z",
     "iopub.status.busy": "2023-01-26T20:02:03.172744Z",
     "iopub.status.idle": "2023-01-26T20:02:03.183763Z",
     "shell.execute_reply": "2023-01-26T20:02:03.182682Z"
    },
    "papermill": {
     "duration": 0.029399,
     "end_time": "2023-01-26T20:02:03.186107",
     "exception": false,
     "start_time": "2023-01-26T20:02:03.156708",
     "status": "completed"
    },
    "tags": []
   },
   "outputs": [
    {
     "data": {
      "text/plain": [
       "(33.29547928134557, 512.3292, 0.0, 51.75866823917411, 14.4542)"
      ]
     },
     "execution_count": 13,
     "metadata": {},
     "output_type": "execute_result"
    }
   ],
   "source": [
    "df[\"Fare\"].mean(), df[\"Fare\"].max(), df[\"Fare\"].min(), df[\"Fare\"].std(), df[\"Fare\"].median()"
   ]
  },
  {
   "cell_type": "code",
   "execution_count": 14,
   "id": "eb41d09f",
   "metadata": {
    "execution": {
     "iopub.execute_input": "2023-01-26T20:02:03.217620Z",
     "iopub.status.busy": "2023-01-26T20:02:03.216907Z",
     "iopub.status.idle": "2023-01-26T20:02:03.222482Z",
     "shell.execute_reply": "2023-01-26T20:02:03.221577Z"
    },
    "papermill": {
     "duration": 0.024074,
     "end_time": "2023-01-26T20:02:03.224915",
     "exception": false,
     "start_time": "2023-01-26T20:02:03.200841",
     "status": "completed"
    },
    "tags": []
   },
   "outputs": [],
   "source": [
    "df[\"Fare\"]=df[\"Fare\"].fillna(df[\"Fare\"].mean()) #fillna: boşlukları doldurur."
   ]
  },
  {
   "cell_type": "code",
   "execution_count": 15,
   "id": "179a40ca",
   "metadata": {
    "execution": {
     "iopub.execute_input": "2023-01-26T20:02:03.256455Z",
     "iopub.status.busy": "2023-01-26T20:02:03.256018Z",
     "iopub.status.idle": "2023-01-26T20:02:03.466375Z",
     "shell.execute_reply": "2023-01-26T20:02:03.465409Z"
    },
    "papermill": {
     "duration": 0.228807,
     "end_time": "2023-01-26T20:02:03.468718",
     "exception": false,
     "start_time": "2023-01-26T20:02:03.239911",
     "status": "completed"
    },
    "tags": []
   },
   "outputs": [
    {
     "data": {
      "text/plain": [
       "<AxesSubplot:xlabel='Embarked', ylabel='count'>"
      ]
     },
     "execution_count": 15,
     "metadata": {},
     "output_type": "execute_result"
    },
    {
     "data": {
      "image/png": "[encoded data removed]",
      "text/plain": [
       "<Figure size 432x288 with 1 Axes>"
      ]
     },
     "metadata": {
      "needs_background": "light"
     },
     "output_type": "display_data"
    }
   ],
   "source": [
    "sns.countplot(x=df[\"Embarked\"]) #Southampton, Cherbourg, and Queenstown. "
   ]
  },
  {
   "cell_type": "code",
   "execution_count": 16,
   "id": "3af16805",
   "metadata": {
    "execution": {
     "iopub.execute_input": "2023-01-26T20:02:03.501081Z",
     "iopub.status.busy": "2023-01-26T20:02:03.500194Z",
     "iopub.status.idle": "2023-01-26T20:02:03.507236Z",
     "shell.execute_reply": "2023-01-26T20:02:03.506403Z"
    },
    "papermill": {
     "duration": 0.025507,
     "end_time": "2023-01-26T20:02:03.509294",
     "exception": false,
     "start_time": "2023-01-26T20:02:03.483787",
     "status": "completed"
    },
    "tags": []
   },
   "outputs": [
    {
     "data": {
      "text/plain": [
       "0    S\n",
       "dtype: object"
      ]
     },
     "execution_count": 16,
     "metadata": {},
     "output_type": "execute_result"
    }
   ],
   "source": [
    "# Most repeating value\n",
    "df[\"Embarked\"].mode() "
   ]
  },
  {
   "cell_type": "code",
   "execution_count": 17,
   "id": "50ed324b",
   "metadata": {
    "execution": {
     "iopub.execute_input": "2023-01-26T20:02:03.542018Z",
     "iopub.status.busy": "2023-01-26T20:02:03.541252Z",
     "iopub.status.idle": "2023-01-26T20:02:03.549462Z",
     "shell.execute_reply": "2023-01-26T20:02:03.548659Z"
    },
    "papermill": {
     "duration": 0.02733,
     "end_time": "2023-01-26T20:02:03.551835",
     "exception": false,
     "start_time": "2023-01-26T20:02:03.524505",
     "status": "completed"
    },
    "tags": []
   },
   "outputs": [
    {
     "data": {
      "text/plain": [
       "S    0.699311\n",
       "C    0.206580\n",
       "Q    0.094109\n",
       "Name: Embarked, dtype: float64"
      ]
     },
     "execution_count": 17,
     "metadata": {},
     "output_type": "execute_result"
    }
   ],
   "source": [
    "# Data with the highest percentage\n",
    "df[\"Embarked\"].value_counts(normalize=True) "
   ]
  },
  {
   "cell_type": "code",
   "execution_count": 18,
   "id": "9dc856af",
   "metadata": {
    "execution": {
     "iopub.execute_input": "2023-01-26T20:02:03.584112Z",
     "iopub.status.busy": "2023-01-26T20:02:03.583680Z",
     "iopub.status.idle": "2023-01-26T20:02:03.590105Z",
     "shell.execute_reply": "2023-01-26T20:02:03.588970Z"
    },
    "papermill": {
     "duration": 0.025309,
     "end_time": "2023-01-26T20:02:03.592564",
     "exception": false,
     "start_time": "2023-01-26T20:02:03.567255",
     "status": "completed"
    },
    "tags": []
   },
   "outputs": [],
   "source": [
    "# We filled in the blanks.\n",
    "df[\"Embarked\"]=df[\"Embarked\"].fillna(\"S\")"
   ]
  },
  {
   "cell_type": "code",
   "execution_count": 19,
   "id": "cd03c70f",
   "metadata": {
    "execution": {
     "iopub.execute_input": "2023-01-26T20:02:03.625121Z",
     "iopub.status.busy": "2023-01-26T20:02:03.624725Z",
     "iopub.status.idle": "2023-01-26T20:02:03.840458Z",
     "shell.execute_reply": "2023-01-26T20:02:03.839211Z"
    },
    "papermill": {
     "duration": 0.234999,
     "end_time": "2023-01-26T20:02:03.843055",
     "exception": false,
     "start_time": "2023-01-26T20:02:03.608056",
     "status": "completed"
    },
    "tags": []
   },
   "outputs": [
    {
     "data": {
      "image/png": "[encoded data removed]",
      "text/plain": [
       "<Figure size 432x288 with 1 Axes>"
      ]
     },
     "metadata": {
      "needs_background": "light"
     },
     "output_type": "display_data"
    }
   ],
   "source": [
    "# Proportions of survivors by port\n",
    "sns.countplot(x=\"Embarked\",hue=\"Survived\",data=df); "
   ]
  },
  {
   "cell_type": "code",
   "execution_count": 20,
   "id": "9a89bd2b",
   "metadata": {
    "execution": {
     "iopub.execute_input": "2023-01-26T20:02:03.876134Z",
     "iopub.status.busy": "2023-01-26T20:02:03.875222Z",
     "iopub.status.idle": "2023-01-26T20:02:03.887674Z",
     "shell.execute_reply": "2023-01-26T20:02:03.886541Z"
    },
    "papermill": {
     "duration": 0.031323,
     "end_time": "2023-01-26T20:02:03.889927",
     "exception": false,
     "start_time": "2023-01-26T20:02:03.858604",
     "status": "completed"
    },
    "tags": []
   },
   "outputs": [
    {
     "data": {
      "text/plain": [
       "PassengerId       0\n",
       "Survived        418\n",
       "Pclass            0\n",
       "Name              0\n",
       "Sex               0\n",
       "Age             263\n",
       "SibSp             0\n",
       "Parch             0\n",
       "Ticket            0\n",
       "Fare              0\n",
       "Cabin          1014\n",
       "Embarked          0\n",
       "dtype: int64"
      ]
     },
     "execution_count": 20,
     "metadata": {},
     "output_type": "execute_result"
    }
   ],
   "source": [
    "df.isnull().sum()"
   ]
  },
  {
   "cell_type": "code",
   "execution_count": 21,
   "id": "f2d8f374",
   "metadata": {
    "execution": {
     "iopub.execute_input": "2023-01-26T20:02:03.923378Z",
     "iopub.status.busy": "2023-01-26T20:02:03.922592Z",
     "iopub.status.idle": "2023-01-26T20:02:03.928069Z",
     "shell.execute_reply": "2023-01-26T20:02:03.927181Z"
    },
    "papermill": {
     "duration": 0.024839,
     "end_time": "2023-01-26T20:02:03.930379",
     "exception": false,
     "start_time": "2023-01-26T20:02:03.905540",
     "status": "completed"
    },
    "tags": []
   },
   "outputs": [],
   "source": [
    "del df[\"Cabin\"]\n",
    "#df.drop(\"Cabin\",axis=1,inplace=True)\n",
    "#If you want to delete more than one column, [\"Cabin\",\"...\",\".....\"] can be done."
   ]
  },
  {
   "cell_type": "code",
   "execution_count": 22,
   "id": "2a7b9a7c",
   "metadata": {
    "execution": {
     "iopub.execute_input": "2023-01-26T20:02:03.963588Z",
     "iopub.status.busy": "2023-01-26T20:02:03.963179Z",
     "iopub.status.idle": "2023-01-26T20:02:03.973339Z",
     "shell.execute_reply": "2023-01-26T20:02:03.972579Z"
    },
    "papermill": {
     "duration": 0.029336,
     "end_time": "2023-01-26T20:02:03.975395",
     "exception": false,
     "start_time": "2023-01-26T20:02:03.946059",
     "status": "completed"
    },
    "tags": []
   },
   "outputs": [
    {
     "data": {
      "text/plain": [
       "PassengerId      0\n",
       "Survived       418\n",
       "Pclass           0\n",
       "Name             0\n",
       "Sex              0\n",
       "Age            263\n",
       "SibSp            0\n",
       "Parch            0\n",
       "Ticket           0\n",
       "Fare             0\n",
       "Embarked         0\n",
       "dtype: int64"
      ]
     },
     "execution_count": 22,
     "metadata": {},
     "output_type": "execute_result"
    }
   ],
   "source": [
    "df.isnull().sum()"
   ]
  },
  {
   "cell_type": "code",
   "execution_count": 23,
   "id": "743b473a",
   "metadata": {
    "execution": {
     "iopub.execute_input": "2023-01-26T20:02:04.008543Z",
     "iopub.status.busy": "2023-01-26T20:02:04.007838Z",
     "iopub.status.idle": "2023-01-26T20:02:04.023364Z",
     "shell.execute_reply": "2023-01-26T20:02:04.022289Z"
    },
    "papermill": {
     "duration": 0.034515,
     "end_time": "2023-01-26T20:02:04.025531",
     "exception": false,
     "start_time": "2023-01-26T20:02:03.991016",
     "status": "completed"
    },
    "tags": []
   },
   "outputs": [
    {
     "data": {
      "text/html": [
       "<div>\n",
       "<style scoped>\n",
       "    .dataframe tbody tr th:only-of-type {\n",
       "        vertical-align: middle;\n",
       "    }\n",
       "\n",
       "    .dataframe tbody tr th {\n",
       "        vertical-align: top;\n",
       "    }\n",
       "\n",
       "    .dataframe thead th {\n",
       "        text-align: right;\n",
       "    }\n",
       "</style>\n",
       "<table border=\"1\" class=\"dataframe\">\n",
       "  <thead>\n",
       "    <tr style=\"text-align: right;\">\n",
       "      <th></th>\n",
       "      <th>PassengerId</th>\n",
       "      <th>Survived</th>\n",
       "      <th>Pclass</th>\n",
       "      <th>Name</th>\n",
       "      <th>Sex</th>\n",
       "      <th>Age</th>\n",
       "      <th>SibSp</th>\n",
       "      <th>Parch</th>\n",
       "      <th>Ticket</th>\n",
       "      <th>Fare</th>\n",
       "      <th>Embarked</th>\n",
       "    </tr>\n",
       "  </thead>\n",
       "  <tbody>\n",
       "    <tr>\n",
       "      <th>0</th>\n",
       "      <td>1</td>\n",
       "      <td>0.0</td>\n",
       "      <td>3</td>\n",
       "      <td>Braund, Mr. Owen Harris</td>\n",
       "      <td>male</td>\n",
       "      <td>22.0</td>\n",
       "      <td>1</td>\n",
       "      <td>0</td>\n",
       "      <td>A/5 21171</td>\n",
       "      <td>7.2500</td>\n",
       "      <td>S</td>\n",
       "    </tr>\n",
       "    <tr>\n",
       "      <th>1</th>\n",
       "      <td>2</td>\n",
       "      <td>1.0</td>\n",
       "      <td>1</td>\n",
       "      <td>Cumings, Mrs. John Bradley (Florence Briggs Th...</td>\n",
       "      <td>female</td>\n",
       "      <td>38.0</td>\n",
       "      <td>1</td>\n",
       "      <td>0</td>\n",
       "      <td>PC 17599</td>\n",
       "      <td>71.2833</td>\n",
       "      <td>C</td>\n",
       "    </tr>\n",
       "    <tr>\n",
       "      <th>2</th>\n",
       "      <td>3</td>\n",
       "      <td>1.0</td>\n",
       "      <td>3</td>\n",
       "      <td>Heikkinen, Miss. Laina</td>\n",
       "      <td>female</td>\n",
       "      <td>26.0</td>\n",
       "      <td>0</td>\n",
       "      <td>0</td>\n",
       "      <td>STON/O2. 3101282</td>\n",
       "      <td>7.9250</td>\n",
       "      <td>S</td>\n",
       "    </tr>\n",
       "    <tr>\n",
       "      <th>3</th>\n",
       "      <td>4</td>\n",
       "      <td>1.0</td>\n",
       "      <td>1</td>\n",
       "      <td>Futrelle, Mrs. Jacques Heath (Lily May Peel)</td>\n",
       "      <td>female</td>\n",
       "      <td>35.0</td>\n",
       "      <td>1</td>\n",
       "      <td>0</td>\n",
       "      <td>113803</td>\n",
       "      <td>53.1000</td>\n",
       "      <td>S</td>\n",
       "    </tr>\n",
       "    <tr>\n",
       "      <th>4</th>\n",
       "      <td>5</td>\n",
       "      <td>0.0</td>\n",
       "      <td>3</td>\n",
       "      <td>Allen, Mr. William Henry</td>\n",
       "      <td>male</td>\n",
       "      <td>35.0</td>\n",
       "      <td>0</td>\n",
       "      <td>0</td>\n",
       "      <td>373450</td>\n",
       "      <td>8.0500</td>\n",
       "      <td>S</td>\n",
       "    </tr>\n",
       "  </tbody>\n",
       "</table>\n",
       "</div>"
      ],
      "text/plain": [
       "   PassengerId  Survived  Pclass  \\\n",
       "0            1       0.0       3   \n",
       "1            2       1.0       1   \n",
       "2            3       1.0       3   \n",
       "3            4       1.0       1   \n",
       "4            5       0.0       3   \n",
       "\n",
       "                                                Name     Sex   Age  SibSp  \\\n",
       "0                            Braund, Mr. Owen Harris    male  22.0      1   \n",
       "1  Cumings, Mrs. John Bradley (Florence Briggs Th...  female  38.0      1   \n",
       "2                             Heikkinen, Miss. Laina  female  26.0      0   \n",
       "3       Futrelle, Mrs. Jacques Heath (Lily May Peel)  female  35.0      1   \n",
       "4                           Allen, Mr. William Henry    male  35.0      0   \n",
       "\n",
       "   Parch            Ticket     Fare Embarked  \n",
       "0      0         A/5 21171   7.2500        S  \n",
       "1      0          PC 17599  71.2833        C  \n",
       "2      0  STON/O2. 3101282   7.9250        S  \n",
       "3      0            113803  53.1000        S  \n",
       "4      0            373450   8.0500        S  "
      ]
     },
     "execution_count": 23,
     "metadata": {},
     "output_type": "execute_result"
    }
   ],
   "source": [
    "df.head()"
   ]
  },
  {
   "cell_type": "code",
   "execution_count": 24,
   "id": "6f0e11e8",
   "metadata": {
    "execution": {
     "iopub.execute_input": "2023-01-26T20:02:04.062428Z",
     "iopub.status.busy": "2023-01-26T20:02:04.061732Z",
     "iopub.status.idle": "2023-01-26T20:02:04.084622Z",
     "shell.execute_reply": "2023-01-26T20:02:04.082302Z"
    },
    "papermill": {
     "duration": 0.046128,
     "end_time": "2023-01-26T20:02:04.089076",
     "exception": false,
     "start_time": "2023-01-26T20:02:04.042948",
     "status": "completed"
    },
    "tags": []
   },
   "outputs": [
    {
     "data": {
      "text/html": [
       "<div>\n",
       "<style scoped>\n",
       "    .dataframe tbody tr th:only-of-type {\n",
       "        vertical-align: middle;\n",
       "    }\n",
       "\n",
       "    .dataframe tbody tr th {\n",
       "        vertical-align: top;\n",
       "    }\n",
       "\n",
       "    .dataframe thead th {\n",
       "        text-align: right;\n",
       "    }\n",
       "</style>\n",
       "<table border=\"1\" class=\"dataframe\">\n",
       "  <thead>\n",
       "    <tr style=\"text-align: right;\">\n",
       "      <th></th>\n",
       "      <th>PassengerId</th>\n",
       "      <th>Survived</th>\n",
       "      <th>Pclass</th>\n",
       "      <th>Name</th>\n",
       "      <th>Sex</th>\n",
       "      <th>Age</th>\n",
       "      <th>SibSp</th>\n",
       "      <th>Parch</th>\n",
       "      <th>Ticket</th>\n",
       "      <th>Fare</th>\n",
       "      <th>Embarked</th>\n",
       "    </tr>\n",
       "  </thead>\n",
       "  <tbody>\n",
       "    <tr>\n",
       "      <th>715</th>\n",
       "      <td>716</td>\n",
       "      <td>0.0</td>\n",
       "      <td>3</td>\n",
       "      <td>Soholt, Mr. Peter Andreas Lauritz Andersen</td>\n",
       "      <td>male</td>\n",
       "      <td>19.0</td>\n",
       "      <td>0</td>\n",
       "      <td>0</td>\n",
       "      <td>348124</td>\n",
       "      <td>7.6500</td>\n",
       "      <td>S</td>\n",
       "    </tr>\n",
       "    <tr>\n",
       "      <th>458</th>\n",
       "      <td>459</td>\n",
       "      <td>1.0</td>\n",
       "      <td>2</td>\n",
       "      <td>Toomey, Miss. Ellen</td>\n",
       "      <td>female</td>\n",
       "      <td>50.0</td>\n",
       "      <td>0</td>\n",
       "      <td>0</td>\n",
       "      <td>F.C.C. 13531</td>\n",
       "      <td>10.5000</td>\n",
       "      <td>S</td>\n",
       "    </tr>\n",
       "    <tr>\n",
       "      <th>118</th>\n",
       "      <td>119</td>\n",
       "      <td>0.0</td>\n",
       "      <td>1</td>\n",
       "      <td>Baxter, Mr. Quigg Edmond</td>\n",
       "      <td>male</td>\n",
       "      <td>24.0</td>\n",
       "      <td>0</td>\n",
       "      <td>1</td>\n",
       "      <td>PC 17558</td>\n",
       "      <td>247.5208</td>\n",
       "      <td>C</td>\n",
       "    </tr>\n",
       "    <tr>\n",
       "      <th>248</th>\n",
       "      <td>1140</td>\n",
       "      <td>NaN</td>\n",
       "      <td>2</td>\n",
       "      <td>Hold, Mrs. Stephen (Annie Margaret Hill)</td>\n",
       "      <td>female</td>\n",
       "      <td>29.0</td>\n",
       "      <td>1</td>\n",
       "      <td>0</td>\n",
       "      <td>26707</td>\n",
       "      <td>26.0000</td>\n",
       "      <td>S</td>\n",
       "    </tr>\n",
       "    <tr>\n",
       "      <th>6</th>\n",
       "      <td>898</td>\n",
       "      <td>NaN</td>\n",
       "      <td>3</td>\n",
       "      <td>Connolly, Miss. Kate</td>\n",
       "      <td>female</td>\n",
       "      <td>30.0</td>\n",
       "      <td>0</td>\n",
       "      <td>0</td>\n",
       "      <td>330972</td>\n",
       "      <td>7.6292</td>\n",
       "      <td>Q</td>\n",
       "    </tr>\n",
       "    <tr>\n",
       "      <th>706</th>\n",
       "      <td>707</td>\n",
       "      <td>1.0</td>\n",
       "      <td>2</td>\n",
       "      <td>Kelly, Mrs. Florence \"Fannie\"</td>\n",
       "      <td>female</td>\n",
       "      <td>45.0</td>\n",
       "      <td>0</td>\n",
       "      <td>0</td>\n",
       "      <td>223596</td>\n",
       "      <td>13.5000</td>\n",
       "      <td>S</td>\n",
       "    </tr>\n",
       "    <tr>\n",
       "      <th>540</th>\n",
       "      <td>541</td>\n",
       "      <td>1.0</td>\n",
       "      <td>1</td>\n",
       "      <td>Crosby, Miss. Harriet R</td>\n",
       "      <td>female</td>\n",
       "      <td>36.0</td>\n",
       "      <td>0</td>\n",
       "      <td>2</td>\n",
       "      <td>WE/P 5735</td>\n",
       "      <td>71.0000</td>\n",
       "      <td>S</td>\n",
       "    </tr>\n",
       "    <tr>\n",
       "      <th>210</th>\n",
       "      <td>1102</td>\n",
       "      <td>NaN</td>\n",
       "      <td>3</td>\n",
       "      <td>Andersen, Mr. Albert Karvin</td>\n",
       "      <td>male</td>\n",
       "      <td>32.0</td>\n",
       "      <td>0</td>\n",
       "      <td>0</td>\n",
       "      <td>C 4001</td>\n",
       "      <td>22.5250</td>\n",
       "      <td>S</td>\n",
       "    </tr>\n",
       "    <tr>\n",
       "      <th>42</th>\n",
       "      <td>934</td>\n",
       "      <td>NaN</td>\n",
       "      <td>3</td>\n",
       "      <td>Goldsmith, Mr. Nathan</td>\n",
       "      <td>male</td>\n",
       "      <td>41.0</td>\n",
       "      <td>0</td>\n",
       "      <td>0</td>\n",
       "      <td>SOTON/O.Q. 3101263</td>\n",
       "      <td>7.8500</td>\n",
       "      <td>S</td>\n",
       "    </tr>\n",
       "    <tr>\n",
       "      <th>246</th>\n",
       "      <td>247</td>\n",
       "      <td>0.0</td>\n",
       "      <td>3</td>\n",
       "      <td>Lindahl, Miss. Agda Thorilda Viktoria</td>\n",
       "      <td>female</td>\n",
       "      <td>25.0</td>\n",
       "      <td>0</td>\n",
       "      <td>0</td>\n",
       "      <td>347071</td>\n",
       "      <td>7.7750</td>\n",
       "      <td>S</td>\n",
       "    </tr>\n",
       "  </tbody>\n",
       "</table>\n",
       "</div>"
      ],
      "text/plain": [
       "     PassengerId  Survived  Pclass  \\\n",
       "715          716       0.0       3   \n",
       "458          459       1.0       2   \n",
       "118          119       0.0       1   \n",
       "248         1140       NaN       2   \n",
       "6            898       NaN       3   \n",
       "706          707       1.0       2   \n",
       "540          541       1.0       1   \n",
       "210         1102       NaN       3   \n",
       "42           934       NaN       3   \n",
       "246          247       0.0       3   \n",
       "\n",
       "                                           Name     Sex   Age  SibSp  Parch  \\\n",
       "715  Soholt, Mr. Peter Andreas Lauritz Andersen    male  19.0      0      0   \n",
       "458                         Toomey, Miss. Ellen  female  50.0      0      0   \n",
       "118                    Baxter, Mr. Quigg Edmond    male  24.0      0      1   \n",
       "248    Hold, Mrs. Stephen (Annie Margaret Hill)  female  29.0      1      0   \n",
       "6                          Connolly, Miss. Kate  female  30.0      0      0   \n",
       "706               Kelly, Mrs. Florence \"Fannie\"  female  45.0      0      0   \n",
       "540                     Crosby, Miss. Harriet R  female  36.0      0      2   \n",
       "210                 Andersen, Mr. Albert Karvin    male  32.0      0      0   \n",
       "42                        Goldsmith, Mr. Nathan    male  41.0      0      0   \n",
       "246       Lindahl, Miss. Agda Thorilda Viktoria  female  25.0      0      0   \n",
       "\n",
       "                 Ticket      Fare Embarked  \n",
       "715              348124    7.6500        S  \n",
       "458        F.C.C. 13531   10.5000        S  \n",
       "118            PC 17558  247.5208        C  \n",
       "248               26707   26.0000        S  \n",
       "6                330972    7.6292        Q  \n",
       "706              223596   13.5000        S  \n",
       "540           WE/P 5735   71.0000        S  \n",
       "210              C 4001   22.5250        S  \n",
       "42   SOTON/O.Q. 3101263    7.8500        S  \n",
       "246              347071    7.7750        S  "
      ]
     },
     "execution_count": 24,
     "metadata": {},
     "output_type": "execute_result"
    }
   ],
   "source": [
    "df.sample(10)"
   ]
  },
  {
   "cell_type": "code",
   "execution_count": 25,
   "id": "a7eac618",
   "metadata": {
    "execution": {
     "iopub.execute_input": "2023-01-26T20:02:04.136900Z",
     "iopub.status.busy": "2023-01-26T20:02:04.135754Z",
     "iopub.status.idle": "2023-01-26T20:02:04.141006Z",
     "shell.execute_reply": "2023-01-26T20:02:04.140034Z"
    },
    "papermill": {
     "duration": 0.034133,
     "end_time": "2023-01-26T20:02:04.143253",
     "exception": false,
     "start_time": "2023-01-26T20:02:04.109120",
     "status": "completed"
    },
    "tags": []
   },
   "outputs": [],
   "source": [
    "#Feature Engineering "
   ]
  },
  {
   "cell_type": "code",
   "execution_count": 26,
   "id": "1b8b974a",
   "metadata": {
    "execution": {
     "iopub.execute_input": "2023-01-26T20:02:04.181853Z",
     "iopub.status.busy": "2023-01-26T20:02:04.180774Z",
     "iopub.status.idle": "2023-01-26T20:02:04.189934Z",
     "shell.execute_reply": "2023-01-26T20:02:04.188746Z"
    },
    "papermill": {
     "duration": 0.031318,
     "end_time": "2023-01-26T20:02:04.192402",
     "exception": false,
     "start_time": "2023-01-26T20:02:04.161084",
     "status": "completed"
    },
    "tags": []
   },
   "outputs": [],
   "source": [
    "df[\"Title\"]=df[\"Name\"].str.extract('([A-Za-z]+)\\.',expand=False)"
   ]
  },
  {
   "cell_type": "code",
   "execution_count": 27,
   "id": "74387fed",
   "metadata": {
    "execution": {
     "iopub.execute_input": "2023-01-26T20:02:04.227530Z",
     "iopub.status.busy": "2023-01-26T20:02:04.226733Z",
     "iopub.status.idle": "2023-01-26T20:02:04.244556Z",
     "shell.execute_reply": "2023-01-26T20:02:04.243762Z"
    },
    "papermill": {
     "duration": 0.037569,
     "end_time": "2023-01-26T20:02:04.246600",
     "exception": false,
     "start_time": "2023-01-26T20:02:04.209031",
     "status": "completed"
    },
    "tags": []
   },
   "outputs": [
    {
     "data": {
      "text/html": [
       "<div>\n",
       "<style scoped>\n",
       "    .dataframe tbody tr th:only-of-type {\n",
       "        vertical-align: middle;\n",
       "    }\n",
       "\n",
       "    .dataframe tbody tr th {\n",
       "        vertical-align: top;\n",
       "    }\n",
       "\n",
       "    .dataframe thead th {\n",
       "        text-align: right;\n",
       "    }\n",
       "</style>\n",
       "<table border=\"1\" class=\"dataframe\">\n",
       "  <thead>\n",
       "    <tr style=\"text-align: right;\">\n",
       "      <th></th>\n",
       "      <th>PassengerId</th>\n",
       "      <th>Survived</th>\n",
       "      <th>Pclass</th>\n",
       "      <th>Name</th>\n",
       "      <th>Sex</th>\n",
       "      <th>Age</th>\n",
       "      <th>SibSp</th>\n",
       "      <th>Parch</th>\n",
       "      <th>Ticket</th>\n",
       "      <th>Fare</th>\n",
       "      <th>Embarked</th>\n",
       "      <th>Title</th>\n",
       "    </tr>\n",
       "  </thead>\n",
       "  <tbody>\n",
       "    <tr>\n",
       "      <th>0</th>\n",
       "      <td>1</td>\n",
       "      <td>0.0</td>\n",
       "      <td>3</td>\n",
       "      <td>Braund, Mr. Owen Harris</td>\n",
       "      <td>male</td>\n",
       "      <td>22.0</td>\n",
       "      <td>1</td>\n",
       "      <td>0</td>\n",
       "      <td>A/5 21171</td>\n",
       "      <td>7.2500</td>\n",
       "      <td>S</td>\n",
       "      <td>Mr</td>\n",
       "    </tr>\n",
       "    <tr>\n",
       "      <th>1</th>\n",
       "      <td>2</td>\n",
       "      <td>1.0</td>\n",
       "      <td>1</td>\n",
       "      <td>Cumings, Mrs. John Bradley (Florence Briggs Th...</td>\n",
       "      <td>female</td>\n",
       "      <td>38.0</td>\n",
       "      <td>1</td>\n",
       "      <td>0</td>\n",
       "      <td>PC 17599</td>\n",
       "      <td>71.2833</td>\n",
       "      <td>C</td>\n",
       "      <td>Mrs</td>\n",
       "    </tr>\n",
       "    <tr>\n",
       "      <th>2</th>\n",
       "      <td>3</td>\n",
       "      <td>1.0</td>\n",
       "      <td>3</td>\n",
       "      <td>Heikkinen, Miss. Laina</td>\n",
       "      <td>female</td>\n",
       "      <td>26.0</td>\n",
       "      <td>0</td>\n",
       "      <td>0</td>\n",
       "      <td>STON/O2. 3101282</td>\n",
       "      <td>7.9250</td>\n",
       "      <td>S</td>\n",
       "      <td>Miss</td>\n",
       "    </tr>\n",
       "    <tr>\n",
       "      <th>3</th>\n",
       "      <td>4</td>\n",
       "      <td>1.0</td>\n",
       "      <td>1</td>\n",
       "      <td>Futrelle, Mrs. Jacques Heath (Lily May Peel)</td>\n",
       "      <td>female</td>\n",
       "      <td>35.0</td>\n",
       "      <td>1</td>\n",
       "      <td>0</td>\n",
       "      <td>113803</td>\n",
       "      <td>53.1000</td>\n",
       "      <td>S</td>\n",
       "      <td>Mrs</td>\n",
       "    </tr>\n",
       "    <tr>\n",
       "      <th>4</th>\n",
       "      <td>5</td>\n",
       "      <td>0.0</td>\n",
       "      <td>3</td>\n",
       "      <td>Allen, Mr. William Henry</td>\n",
       "      <td>male</td>\n",
       "      <td>35.0</td>\n",
       "      <td>0</td>\n",
       "      <td>0</td>\n",
       "      <td>373450</td>\n",
       "      <td>8.0500</td>\n",
       "      <td>S</td>\n",
       "      <td>Mr</td>\n",
       "    </tr>\n",
       "  </tbody>\n",
       "</table>\n",
       "</div>"
      ],
      "text/plain": [
       "   PassengerId  Survived  Pclass  \\\n",
       "0            1       0.0       3   \n",
       "1            2       1.0       1   \n",
       "2            3       1.0       3   \n",
       "3            4       1.0       1   \n",
       "4            5       0.0       3   \n",
       "\n",
       "                                                Name     Sex   Age  SibSp  \\\n",
       "0                            Braund, Mr. Owen Harris    male  22.0      1   \n",
       "1  Cumings, Mrs. John Bradley (Florence Briggs Th...  female  38.0      1   \n",
       "2                             Heikkinen, Miss. Laina  female  26.0      0   \n",
       "3       Futrelle, Mrs. Jacques Heath (Lily May Peel)  female  35.0      1   \n",
       "4                           Allen, Mr. William Henry    male  35.0      0   \n",
       "\n",
       "   Parch            Ticket     Fare Embarked Title  \n",
       "0      0         A/5 21171   7.2500        S    Mr  \n",
       "1      0          PC 17599  71.2833        C   Mrs  \n",
       "2      0  STON/O2. 3101282   7.9250        S  Miss  \n",
       "3      0            113803  53.1000        S   Mrs  \n",
       "4      0            373450   8.0500        S    Mr  "
      ]
     },
     "execution_count": 27,
     "metadata": {},
     "output_type": "execute_result"
    }
   ],
   "source": [
    "df.head()"
   ]
  },
  {
   "cell_type": "code",
   "execution_count": 28,
   "id": "cdc599d6",
   "metadata": {
    "execution": {
     "iopub.execute_input": "2023-01-26T20:02:04.281891Z",
     "iopub.status.busy": "2023-01-26T20:02:04.281269Z",
     "iopub.status.idle": "2023-01-26T20:02:04.286037Z",
     "shell.execute_reply": "2023-01-26T20:02:04.284862Z"
    },
    "papermill": {
     "duration": 0.02509,
     "end_time": "2023-01-26T20:02:04.288256",
     "exception": false,
     "start_time": "2023-01-26T20:02:04.263166",
     "status": "completed"
    },
    "tags": []
   },
   "outputs": [],
   "source": [
    "del df[\"Name\"]"
   ]
  },
  {
   "cell_type": "code",
   "execution_count": 29,
   "id": "8703622d",
   "metadata": {
    "execution": {
     "iopub.execute_input": "2023-01-26T20:02:04.323198Z",
     "iopub.status.busy": "2023-01-26T20:02:04.322779Z",
     "iopub.status.idle": "2023-01-26T20:02:04.330656Z",
     "shell.execute_reply": "2023-01-26T20:02:04.329633Z"
    },
    "papermill": {
     "duration": 0.027968,
     "end_time": "2023-01-26T20:02:04.332852",
     "exception": false,
     "start_time": "2023-01-26T20:02:04.304884",
     "status": "completed"
    },
    "tags": []
   },
   "outputs": [
    {
     "data": {
      "text/plain": [
       "array(['Mr', 'Mrs', 'Miss', 'Master', 'Don', 'Rev', 'Dr', 'Mme', 'Ms',\n",
       "       'Major', 'Lady', 'Sir', 'Mlle', 'Col', 'Capt', 'Countess',\n",
       "       'Jonkheer', 'Dona'], dtype=object)"
      ]
     },
     "execution_count": 29,
     "metadata": {},
     "output_type": "execute_result"
    }
   ],
   "source": [
    "df[\"Title\"].unique()"
   ]
  },
  {
   "cell_type": "code",
   "execution_count": 30,
   "id": "68939347",
   "metadata": {
    "execution": {
     "iopub.execute_input": "2023-01-26T20:02:04.368006Z",
     "iopub.status.busy": "2023-01-26T20:02:04.367592Z",
     "iopub.status.idle": "2023-01-26T20:02:04.378073Z",
     "shell.execute_reply": "2023-01-26T20:02:04.377065Z"
    },
    "papermill": {
     "duration": 0.031035,
     "end_time": "2023-01-26T20:02:04.380724",
     "exception": false,
     "start_time": "2023-01-26T20:02:04.349689",
     "status": "completed"
    },
    "tags": []
   },
   "outputs": [
    {
     "data": {
      "text/plain": [
       "Mr          757\n",
       "Miss        260\n",
       "Mrs         197\n",
       "Master       61\n",
       "Rev           8\n",
       "Dr            8\n",
       "Col           4\n",
       "Mlle          2\n",
       "Major         2\n",
       "Ms            2\n",
       "Lady          1\n",
       "Sir           1\n",
       "Mme           1\n",
       "Don           1\n",
       "Capt          1\n",
       "Countess      1\n",
       "Jonkheer      1\n",
       "Dona          1\n",
       "Name: Title, dtype: int64"
      ]
     },
     "execution_count": 30,
     "metadata": {},
     "output_type": "execute_result"
    }
   ],
   "source": [
    "df[\"Title\"].value_counts()"
   ]
  },
  {
   "cell_type": "code",
   "execution_count": 31,
   "id": "16c301ef",
   "metadata": {
    "execution": {
     "iopub.execute_input": "2023-01-26T20:02:04.417302Z",
     "iopub.status.busy": "2023-01-26T20:02:04.416544Z",
     "iopub.status.idle": "2023-01-26T20:02:04.767626Z",
     "shell.execute_reply": "2023-01-26T20:02:04.766495Z"
    },
    "papermill": {
     "duration": 0.372182,
     "end_time": "2023-01-26T20:02:04.770184",
     "exception": false,
     "start_time": "2023-01-26T20:02:04.398002",
     "status": "completed"
    },
    "tags": []
   },
   "outputs": [
    {
     "data": {
      "image/png": "[encoded data removed]",
      "text/plain": [
       "<Figure size 864x432 with 1 Axes>"
      ]
     },
     "metadata": {
      "needs_background": "light"
     },
     "output_type": "display_data"
    }
   ],
   "source": [
    "plt.figure(figsize=(12,6))\n",
    "ax=sns.countplot(x=df[\"Title\"])\n",
    "ax.bar_label(ax.containers[0])\n",
    "plt.xticks(rotation=90);"
   ]
  },
  {
   "cell_type": "code",
   "execution_count": 32,
   "id": "ebb615c1",
   "metadata": {
    "execution": {
     "iopub.execute_input": "2023-01-26T20:02:04.808027Z",
     "iopub.status.busy": "2023-01-26T20:02:04.805886Z",
     "iopub.status.idle": "2023-01-26T20:02:04.815795Z",
     "shell.execute_reply": "2023-01-26T20:02:04.814915Z"
    },
    "papermill": {
     "duration": 0.030586,
     "end_time": "2023-01-26T20:02:04.818012",
     "exception": false,
     "start_time": "2023-01-26T20:02:04.787426",
     "status": "completed"
    },
    "tags": []
   },
   "outputs": [
    {
     "data": {
      "text/plain": [
       "male      843\n",
       "female    466\n",
       "Name: Sex, dtype: int64"
      ]
     },
     "execution_count": 32,
     "metadata": {},
     "output_type": "execute_result"
    }
   ],
   "source": [
    "df[\"Sex\"].value_counts()"
   ]
  },
  {
   "cell_type": "code",
   "execution_count": 33,
   "id": "3eba40b0",
   "metadata": {
    "execution": {
     "iopub.execute_input": "2023-01-26T20:02:04.855454Z",
     "iopub.status.busy": "2023-01-26T20:02:04.854284Z",
     "iopub.status.idle": "2023-01-26T20:02:04.864575Z",
     "shell.execute_reply": "2023-01-26T20:02:04.863662Z"
    },
    "papermill": {
     "duration": 0.031633,
     "end_time": "2023-01-26T20:02:04.866919",
     "exception": false,
     "start_time": "2023-01-26T20:02:04.835286",
     "status": "completed"
    },
    "tags": []
   },
   "outputs": [],
   "source": [
    "df[\"Title\"]=df[\"Title\"].replace([\"Ms\",\"Mlle\"],\"Miss\")\n",
    "df[\"Title\"]=df[\"Title\"].replace([\"Mme\",\"Countess\",\"Lady\",\"Dona\"],\"Mrs\")\n",
    "df[\"Title\"]=df[\"Title\"].replace([\"Rev\",\"Jonkheer\",\"Don\",\"Sir\",\"Major\",\"Dr\",\"Capt\",\"Col\"],\"Mr\")\n",
    "#replace:means to change"
   ]
  },
  {
   "cell_type": "code",
   "execution_count": 34,
   "id": "8f55b302",
   "metadata": {
    "execution": {
     "iopub.execute_input": "2023-01-26T20:02:04.904344Z",
     "iopub.status.busy": "2023-01-26T20:02:04.903567Z",
     "iopub.status.idle": "2023-01-26T20:02:04.912465Z",
     "shell.execute_reply": "2023-01-26T20:02:04.911456Z"
    },
    "papermill": {
     "duration": 0.029922,
     "end_time": "2023-01-26T20:02:04.914705",
     "exception": false,
     "start_time": "2023-01-26T20:02:04.884783",
     "status": "completed"
    },
    "tags": []
   },
   "outputs": [
    {
     "data": {
      "text/plain": [
       "Mr        783\n",
       "Miss      264\n",
       "Mrs       201\n",
       "Master     61\n",
       "Name: Title, dtype: int64"
      ]
     },
     "execution_count": 34,
     "metadata": {},
     "output_type": "execute_result"
    }
   ],
   "source": [
    "df[\"Title\"].value_counts()"
   ]
  },
  {
   "cell_type": "code",
   "execution_count": 35,
   "id": "421bb8e7",
   "metadata": {
    "execution": {
     "iopub.execute_input": "2023-01-26T20:02:04.952429Z",
     "iopub.status.busy": "2023-01-26T20:02:04.951388Z",
     "iopub.status.idle": "2023-01-26T20:02:04.960922Z",
     "shell.execute_reply": "2023-01-26T20:02:04.960170Z"
    },
    "papermill": {
     "duration": 0.030561,
     "end_time": "2023-01-26T20:02:04.962996",
     "exception": false,
     "start_time": "2023-01-26T20:02:04.932435",
     "status": "completed"
    },
    "tags": []
   },
   "outputs": [
    {
     "data": {
      "text/plain": [
       "count    1046.000000\n",
       "mean       29.881138\n",
       "std        14.413493\n",
       "min         0.170000\n",
       "25%        21.000000\n",
       "50%        28.000000\n",
       "75%        39.000000\n",
       "max        80.000000\n",
       "Name: Age, dtype: float64"
      ]
     },
     "execution_count": 35,
     "metadata": {},
     "output_type": "execute_result"
    }
   ],
   "source": [
    "df.Age.describe()"
   ]
  },
  {
   "cell_type": "code",
   "execution_count": 36,
   "id": "73daeefe",
   "metadata": {
    "execution": {
     "iopub.execute_input": "2023-01-26T20:02:05.000332Z",
     "iopub.status.busy": "2023-01-26T20:02:04.999621Z",
     "iopub.status.idle": "2023-01-26T20:02:05.011028Z",
     "shell.execute_reply": "2023-01-26T20:02:05.009872Z"
    },
    "papermill": {
     "duration": 0.032693,
     "end_time": "2023-01-26T20:02:05.013380",
     "exception": false,
     "start_time": "2023-01-26T20:02:04.980687",
     "status": "completed"
    },
    "tags": []
   },
   "outputs": [
    {
     "data": {
      "text/plain": [
       "Sex\n",
       "female    28.687088\n",
       "male      30.585228\n",
       "Name: Age, dtype: float64"
      ]
     },
     "execution_count": 36,
     "metadata": {},
     "output_type": "execute_result"
    }
   ],
   "source": [
    "df.groupby('Sex')[\"Age\"].mean()\n",
    "#groupby:collects by groups"
   ]
  },
  {
   "cell_type": "code",
   "execution_count": 37,
   "id": "19266500",
   "metadata": {
    "execution": {
     "iopub.execute_input": "2023-01-26T20:02:05.052442Z",
     "iopub.status.busy": "2023-01-26T20:02:05.051285Z",
     "iopub.status.idle": "2023-01-26T20:02:05.059839Z",
     "shell.execute_reply": "2023-01-26T20:02:05.058660Z"
    },
    "papermill": {
     "duration": 0.030888,
     "end_time": "2023-01-26T20:02:05.062039",
     "exception": false,
     "start_time": "2023-01-26T20:02:05.031151",
     "status": "completed"
    },
    "tags": []
   },
   "outputs": [
    {
     "data": {
      "text/plain": [
       "9.101753246753248"
      ]
     },
     "execution_count": 37,
     "metadata": {},
     "output_type": "execute_result"
    }
   ],
   "source": [
    "df[df[\"Age\"]<18][\"Age\"].mean()"
   ]
  },
  {
   "cell_type": "code",
   "execution_count": 38,
   "id": "f8a7566a",
   "metadata": {
    "execution": {
     "iopub.execute_input": "2023-01-26T20:02:05.099221Z",
     "iopub.status.busy": "2023-01-26T20:02:05.098832Z",
     "iopub.status.idle": "2023-01-26T20:02:05.106611Z",
     "shell.execute_reply": "2023-01-26T20:02:05.105491Z"
    },
    "papermill": {
     "duration": 0.029071,
     "end_time": "2023-01-26T20:02:05.108950",
     "exception": false,
     "start_time": "2023-01-26T20:02:05.079879",
     "status": "completed"
    },
    "tags": []
   },
   "outputs": [],
   "source": [
    "df[\"Age\"]=df[\"Age\"].fillna(df.groupby(\"Title\")[\"Age\"].transform(\"median\"))"
   ]
  },
  {
   "cell_type": "code",
   "execution_count": 39,
   "id": "62365b8d",
   "metadata": {
    "execution": {
     "iopub.execute_input": "2023-01-26T20:02:05.146480Z",
     "iopub.status.busy": "2023-01-26T20:02:05.146049Z",
     "iopub.status.idle": "2023-01-26T20:02:05.155955Z",
     "shell.execute_reply": "2023-01-26T20:02:05.154934Z"
    },
    "papermill": {
     "duration": 0.031165,
     "end_time": "2023-01-26T20:02:05.158208",
     "exception": false,
     "start_time": "2023-01-26T20:02:05.127043",
     "status": "completed"
    },
    "tags": []
   },
   "outputs": [
    {
     "data": {
      "text/plain": [
       "PassengerId      0\n",
       "Survived       418\n",
       "Pclass           0\n",
       "Sex              0\n",
       "Age              0\n",
       "SibSp            0\n",
       "Parch            0\n",
       "Ticket           0\n",
       "Fare             0\n",
       "Embarked         0\n",
       "Title            0\n",
       "dtype: int64"
      ]
     },
     "execution_count": 39,
     "metadata": {},
     "output_type": "execute_result"
    }
   ],
   "source": [
    "df.isnull().sum()"
   ]
  },
  {
   "cell_type": "code",
   "execution_count": 40,
   "id": "fe51d357",
   "metadata": {
    "execution": {
     "iopub.execute_input": "2023-01-26T20:02:05.196840Z",
     "iopub.status.busy": "2023-01-26T20:02:05.196416Z",
     "iopub.status.idle": "2023-01-26T20:02:05.202657Z",
     "shell.execute_reply": "2023-01-26T20:02:05.201661Z"
    },
    "papermill": {
     "duration": 0.028029,
     "end_time": "2023-01-26T20:02:05.204727",
     "exception": false,
     "start_time": "2023-01-26T20:02:05.176698",
     "status": "completed"
    },
    "tags": []
   },
   "outputs": [],
   "source": [
    "df[\"Family\"]=df[\"SibSp\"]+df[\"Parch\"]+1"
   ]
  },
  {
   "cell_type": "code",
   "execution_count": 41,
   "id": "abd50e27",
   "metadata": {
    "execution": {
     "iopub.execute_input": "2023-01-26T20:02:05.241465Z",
     "iopub.status.busy": "2023-01-26T20:02:05.241095Z",
     "iopub.status.idle": "2023-01-26T20:02:05.257420Z",
     "shell.execute_reply": "2023-01-26T20:02:05.256429Z"
    },
    "papermill": {
     "duration": 0.037112,
     "end_time": "2023-01-26T20:02:05.259491",
     "exception": false,
     "start_time": "2023-01-26T20:02:05.222379",
     "status": "completed"
    },
    "tags": []
   },
   "outputs": [
    {
     "data": {
      "text/html": [
       "<div>\n",
       "<style scoped>\n",
       "    .dataframe tbody tr th:only-of-type {\n",
       "        vertical-align: middle;\n",
       "    }\n",
       "\n",
       "    .dataframe tbody tr th {\n",
       "        vertical-align: top;\n",
       "    }\n",
       "\n",
       "    .dataframe thead th {\n",
       "        text-align: right;\n",
       "    }\n",
       "</style>\n",
       "<table border=\"1\" class=\"dataframe\">\n",
       "  <thead>\n",
       "    <tr style=\"text-align: right;\">\n",
       "      <th></th>\n",
       "      <th>PassengerId</th>\n",
       "      <th>Survived</th>\n",
       "      <th>Pclass</th>\n",
       "      <th>Sex</th>\n",
       "      <th>Age</th>\n",
       "      <th>SibSp</th>\n",
       "      <th>Parch</th>\n",
       "      <th>Ticket</th>\n",
       "      <th>Fare</th>\n",
       "      <th>Embarked</th>\n",
       "      <th>Title</th>\n",
       "      <th>Family</th>\n",
       "    </tr>\n",
       "  </thead>\n",
       "  <tbody>\n",
       "    <tr>\n",
       "      <th>0</th>\n",
       "      <td>1</td>\n",
       "      <td>0.0</td>\n",
       "      <td>3</td>\n",
       "      <td>male</td>\n",
       "      <td>22.0</td>\n",
       "      <td>1</td>\n",
       "      <td>0</td>\n",
       "      <td>A/5 21171</td>\n",
       "      <td>7.2500</td>\n",
       "      <td>S</td>\n",
       "      <td>Mr</td>\n",
       "      <td>2</td>\n",
       "    </tr>\n",
       "    <tr>\n",
       "      <th>1</th>\n",
       "      <td>2</td>\n",
       "      <td>1.0</td>\n",
       "      <td>1</td>\n",
       "      <td>female</td>\n",
       "      <td>38.0</td>\n",
       "      <td>1</td>\n",
       "      <td>0</td>\n",
       "      <td>PC 17599</td>\n",
       "      <td>71.2833</td>\n",
       "      <td>C</td>\n",
       "      <td>Mrs</td>\n",
       "      <td>2</td>\n",
       "    </tr>\n",
       "    <tr>\n",
       "      <th>2</th>\n",
       "      <td>3</td>\n",
       "      <td>1.0</td>\n",
       "      <td>3</td>\n",
       "      <td>female</td>\n",
       "      <td>26.0</td>\n",
       "      <td>0</td>\n",
       "      <td>0</td>\n",
       "      <td>STON/O2. 3101282</td>\n",
       "      <td>7.9250</td>\n",
       "      <td>S</td>\n",
       "      <td>Miss</td>\n",
       "      <td>1</td>\n",
       "    </tr>\n",
       "    <tr>\n",
       "      <th>3</th>\n",
       "      <td>4</td>\n",
       "      <td>1.0</td>\n",
       "      <td>1</td>\n",
       "      <td>female</td>\n",
       "      <td>35.0</td>\n",
       "      <td>1</td>\n",
       "      <td>0</td>\n",
       "      <td>113803</td>\n",
       "      <td>53.1000</td>\n",
       "      <td>S</td>\n",
       "      <td>Mrs</td>\n",
       "      <td>2</td>\n",
       "    </tr>\n",
       "    <tr>\n",
       "      <th>4</th>\n",
       "      <td>5</td>\n",
       "      <td>0.0</td>\n",
       "      <td>3</td>\n",
       "      <td>male</td>\n",
       "      <td>35.0</td>\n",
       "      <td>0</td>\n",
       "      <td>0</td>\n",
       "      <td>373450</td>\n",
       "      <td>8.0500</td>\n",
       "      <td>S</td>\n",
       "      <td>Mr</td>\n",
       "      <td>1</td>\n",
       "    </tr>\n",
       "  </tbody>\n",
       "</table>\n",
       "</div>"
      ],
      "text/plain": [
       "   PassengerId  Survived  Pclass     Sex   Age  SibSp  Parch  \\\n",
       "0            1       0.0       3    male  22.0      1      0   \n",
       "1            2       1.0       1  female  38.0      1      0   \n",
       "2            3       1.0       3  female  26.0      0      0   \n",
       "3            4       1.0       1  female  35.0      1      0   \n",
       "4            5       0.0       3    male  35.0      0      0   \n",
       "\n",
       "             Ticket     Fare Embarked Title  Family  \n",
       "0         A/5 21171   7.2500        S    Mr       2  \n",
       "1          PC 17599  71.2833        C   Mrs       2  \n",
       "2  STON/O2. 3101282   7.9250        S  Miss       1  \n",
       "3            113803  53.1000        S   Mrs       2  \n",
       "4            373450   8.0500        S    Mr       1  "
      ]
     },
     "execution_count": 41,
     "metadata": {},
     "output_type": "execute_result"
    }
   ],
   "source": [
    "df.head()"
   ]
  },
  {
   "cell_type": "code",
   "execution_count": 42,
   "id": "b7483bc5",
   "metadata": {
    "execution": {
     "iopub.execute_input": "2023-01-26T20:02:05.297018Z",
     "iopub.status.busy": "2023-01-26T20:02:05.296607Z",
     "iopub.status.idle": "2023-01-26T20:02:05.303664Z",
     "shell.execute_reply": "2023-01-26T20:02:05.302695Z"
    },
    "papermill": {
     "duration": 0.028272,
     "end_time": "2023-01-26T20:02:05.305763",
     "exception": false,
     "start_time": "2023-01-26T20:02:05.277491",
     "status": "completed"
    },
    "tags": []
   },
   "outputs": [],
   "source": [
    "df.drop([\"PassengerId\",\"Ticket\"],axis=1, inplace=True)"
   ]
  },
  {
   "cell_type": "code",
   "execution_count": 43,
   "id": "d4ba60f1",
   "metadata": {
    "execution": {
     "iopub.execute_input": "2023-01-26T20:02:05.343425Z",
     "iopub.status.busy": "2023-01-26T20:02:05.342995Z",
     "iopub.status.idle": "2023-01-26T20:02:05.359548Z",
     "shell.execute_reply": "2023-01-26T20:02:05.358548Z"
    },
    "papermill": {
     "duration": 0.037926,
     "end_time": "2023-01-26T20:02:05.361962",
     "exception": false,
     "start_time": "2023-01-26T20:02:05.324036",
     "status": "completed"
    },
    "tags": []
   },
   "outputs": [
    {
     "data": {
      "text/html": [
       "<div>\n",
       "<style scoped>\n",
       "    .dataframe tbody tr th:only-of-type {\n",
       "        vertical-align: middle;\n",
       "    }\n",
       "\n",
       "    .dataframe tbody tr th {\n",
       "        vertical-align: top;\n",
       "    }\n",
       "\n",
       "    .dataframe thead th {\n",
       "        text-align: right;\n",
       "    }\n",
       "</style>\n",
       "<table border=\"1\" class=\"dataframe\">\n",
       "  <thead>\n",
       "    <tr style=\"text-align: right;\">\n",
       "      <th></th>\n",
       "      <th>Survived</th>\n",
       "      <th>Pclass</th>\n",
       "      <th>Sex</th>\n",
       "      <th>Age</th>\n",
       "      <th>SibSp</th>\n",
       "      <th>Parch</th>\n",
       "      <th>Fare</th>\n",
       "      <th>Embarked</th>\n",
       "      <th>Title</th>\n",
       "      <th>Family</th>\n",
       "    </tr>\n",
       "  </thead>\n",
       "  <tbody>\n",
       "    <tr>\n",
       "      <th>0</th>\n",
       "      <td>0.0</td>\n",
       "      <td>3</td>\n",
       "      <td>male</td>\n",
       "      <td>22.0</td>\n",
       "      <td>1</td>\n",
       "      <td>0</td>\n",
       "      <td>7.2500</td>\n",
       "      <td>S</td>\n",
       "      <td>Mr</td>\n",
       "      <td>2</td>\n",
       "    </tr>\n",
       "    <tr>\n",
       "      <th>1</th>\n",
       "      <td>1.0</td>\n",
       "      <td>1</td>\n",
       "      <td>female</td>\n",
       "      <td>38.0</td>\n",
       "      <td>1</td>\n",
       "      <td>0</td>\n",
       "      <td>71.2833</td>\n",
       "      <td>C</td>\n",
       "      <td>Mrs</td>\n",
       "      <td>2</td>\n",
       "    </tr>\n",
       "    <tr>\n",
       "      <th>2</th>\n",
       "      <td>1.0</td>\n",
       "      <td>3</td>\n",
       "      <td>female</td>\n",
       "      <td>26.0</td>\n",
       "      <td>0</td>\n",
       "      <td>0</td>\n",
       "      <td>7.9250</td>\n",
       "      <td>S</td>\n",
       "      <td>Miss</td>\n",
       "      <td>1</td>\n",
       "    </tr>\n",
       "    <tr>\n",
       "      <th>3</th>\n",
       "      <td>1.0</td>\n",
       "      <td>1</td>\n",
       "      <td>female</td>\n",
       "      <td>35.0</td>\n",
       "      <td>1</td>\n",
       "      <td>0</td>\n",
       "      <td>53.1000</td>\n",
       "      <td>S</td>\n",
       "      <td>Mrs</td>\n",
       "      <td>2</td>\n",
       "    </tr>\n",
       "    <tr>\n",
       "      <th>4</th>\n",
       "      <td>0.0</td>\n",
       "      <td>3</td>\n",
       "      <td>male</td>\n",
       "      <td>35.0</td>\n",
       "      <td>0</td>\n",
       "      <td>0</td>\n",
       "      <td>8.0500</td>\n",
       "      <td>S</td>\n",
       "      <td>Mr</td>\n",
       "      <td>1</td>\n",
       "    </tr>\n",
       "  </tbody>\n",
       "</table>\n",
       "</div>"
      ],
      "text/plain": [
       "   Survived  Pclass     Sex   Age  SibSp  Parch     Fare Embarked Title  \\\n",
       "0       0.0       3    male  22.0      1      0   7.2500        S    Mr   \n",
       "1       1.0       1  female  38.0      1      0  71.2833        C   Mrs   \n",
       "2       1.0       3  female  26.0      0      0   7.9250        S  Miss   \n",
       "3       1.0       1  female  35.0      1      0  53.1000        S   Mrs   \n",
       "4       0.0       3    male  35.0      0      0   8.0500        S    Mr   \n",
       "\n",
       "   Family  \n",
       "0       2  \n",
       "1       2  \n",
       "2       1  \n",
       "3       2  \n",
       "4       1  "
      ]
     },
     "execution_count": 43,
     "metadata": {},
     "output_type": "execute_result"
    }
   ],
   "source": [
    "df.head()"
   ]
  },
  {
   "cell_type": "code",
   "execution_count": 44,
   "id": "6252e61c",
   "metadata": {
    "execution": {
     "iopub.execute_input": "2023-01-26T20:02:05.400137Z",
     "iopub.status.busy": "2023-01-26T20:02:05.399719Z",
     "iopub.status.idle": "2023-01-26T20:02:05.411848Z",
     "shell.execute_reply": "2023-01-26T20:02:05.410977Z"
    },
    "papermill": {
     "duration": 0.033596,
     "end_time": "2023-01-26T20:02:05.413902",
     "exception": false,
     "start_time": "2023-01-26T20:02:05.380306",
     "status": "completed"
    },
    "tags": []
   },
   "outputs": [],
   "source": [
    "data=pd.get_dummies(df,drop_first=True)"
   ]
  },
  {
   "cell_type": "code",
   "execution_count": 45,
   "id": "8b739917",
   "metadata": {
    "execution": {
     "iopub.execute_input": "2023-01-26T20:02:05.452855Z",
     "iopub.status.busy": "2023-01-26T20:02:05.452438Z",
     "iopub.status.idle": "2023-01-26T20:02:05.469506Z",
     "shell.execute_reply": "2023-01-26T20:02:05.468336Z"
    },
    "papermill": {
     "duration": 0.039623,
     "end_time": "2023-01-26T20:02:05.471849",
     "exception": false,
     "start_time": "2023-01-26T20:02:05.432226",
     "status": "completed"
    },
    "tags": []
   },
   "outputs": [
    {
     "data": {
      "text/html": [
       "<div>\n",
       "<style scoped>\n",
       "    .dataframe tbody tr th:only-of-type {\n",
       "        vertical-align: middle;\n",
       "    }\n",
       "\n",
       "    .dataframe tbody tr th {\n",
       "        vertical-align: top;\n",
       "    }\n",
       "\n",
       "    .dataframe thead th {\n",
       "        text-align: right;\n",
       "    }\n",
       "</style>\n",
       "<table border=\"1\" class=\"dataframe\">\n",
       "  <thead>\n",
       "    <tr style=\"text-align: right;\">\n",
       "      <th></th>\n",
       "      <th>Survived</th>\n",
       "      <th>Pclass</th>\n",
       "      <th>Age</th>\n",
       "      <th>SibSp</th>\n",
       "      <th>Parch</th>\n",
       "      <th>Fare</th>\n",
       "      <th>Family</th>\n",
       "      <th>Sex_male</th>\n",
       "      <th>Embarked_Q</th>\n",
       "      <th>Embarked_S</th>\n",
       "      <th>Title_Miss</th>\n",
       "      <th>Title_Mr</th>\n",
       "      <th>Title_Mrs</th>\n",
       "    </tr>\n",
       "  </thead>\n",
       "  <tbody>\n",
       "    <tr>\n",
       "      <th>0</th>\n",
       "      <td>0.0</td>\n",
       "      <td>3</td>\n",
       "      <td>22.0</td>\n",
       "      <td>1</td>\n",
       "      <td>0</td>\n",
       "      <td>7.2500</td>\n",
       "      <td>2</td>\n",
       "      <td>1</td>\n",
       "      <td>0</td>\n",
       "      <td>1</td>\n",
       "      <td>0</td>\n",
       "      <td>1</td>\n",
       "      <td>0</td>\n",
       "    </tr>\n",
       "    <tr>\n",
       "      <th>1</th>\n",
       "      <td>1.0</td>\n",
       "      <td>1</td>\n",
       "      <td>38.0</td>\n",
       "      <td>1</td>\n",
       "      <td>0</td>\n",
       "      <td>71.2833</td>\n",
       "      <td>2</td>\n",
       "      <td>0</td>\n",
       "      <td>0</td>\n",
       "      <td>0</td>\n",
       "      <td>0</td>\n",
       "      <td>0</td>\n",
       "      <td>1</td>\n",
       "    </tr>\n",
       "    <tr>\n",
       "      <th>2</th>\n",
       "      <td>1.0</td>\n",
       "      <td>3</td>\n",
       "      <td>26.0</td>\n",
       "      <td>0</td>\n",
       "      <td>0</td>\n",
       "      <td>7.9250</td>\n",
       "      <td>1</td>\n",
       "      <td>0</td>\n",
       "      <td>0</td>\n",
       "      <td>1</td>\n",
       "      <td>1</td>\n",
       "      <td>0</td>\n",
       "      <td>0</td>\n",
       "    </tr>\n",
       "    <tr>\n",
       "      <th>3</th>\n",
       "      <td>1.0</td>\n",
       "      <td>1</td>\n",
       "      <td>35.0</td>\n",
       "      <td>1</td>\n",
       "      <td>0</td>\n",
       "      <td>53.1000</td>\n",
       "      <td>2</td>\n",
       "      <td>0</td>\n",
       "      <td>0</td>\n",
       "      <td>1</td>\n",
       "      <td>0</td>\n",
       "      <td>0</td>\n",
       "      <td>1</td>\n",
       "    </tr>\n",
       "    <tr>\n",
       "      <th>4</th>\n",
       "      <td>0.0</td>\n",
       "      <td>3</td>\n",
       "      <td>35.0</td>\n",
       "      <td>0</td>\n",
       "      <td>0</td>\n",
       "      <td>8.0500</td>\n",
       "      <td>1</td>\n",
       "      <td>1</td>\n",
       "      <td>0</td>\n",
       "      <td>1</td>\n",
       "      <td>0</td>\n",
       "      <td>1</td>\n",
       "      <td>0</td>\n",
       "    </tr>\n",
       "  </tbody>\n",
       "</table>\n",
       "</div>"
      ],
      "text/plain": [
       "   Survived  Pclass   Age  SibSp  Parch     Fare  Family  Sex_male  \\\n",
       "0       0.0       3  22.0      1      0   7.2500       2         1   \n",
       "1       1.0       1  38.0      1      0  71.2833       2         0   \n",
       "2       1.0       3  26.0      0      0   7.9250       1         0   \n",
       "3       1.0       1  35.0      1      0  53.1000       2         0   \n",
       "4       0.0       3  35.0      0      0   8.0500       1         1   \n",
       "\n",
       "   Embarked_Q  Embarked_S  Title_Miss  Title_Mr  Title_Mrs  \n",
       "0           0           1           0         1          0  \n",
       "1           0           0           0         0          1  \n",
       "2           0           1           1         0          0  \n",
       "3           0           1           0         0          1  \n",
       "4           0           1           0         1          0  "
      ]
     },
     "execution_count": 45,
     "metadata": {},
     "output_type": "execute_result"
    }
   ],
   "source": [
    "data.head()"
   ]
  },
  {
   "cell_type": "code",
   "execution_count": 46,
   "id": "44db3ff7",
   "metadata": {
    "execution": {
     "iopub.execute_input": "2023-01-26T20:02:05.511231Z",
     "iopub.status.busy": "2023-01-26T20:02:05.510803Z",
     "iopub.status.idle": "2023-01-26T20:02:05.515883Z",
     "shell.execute_reply": "2023-01-26T20:02:05.514974Z"
    },
    "papermill": {
     "duration": 0.027428,
     "end_time": "2023-01-26T20:02:05.518105",
     "exception": false,
     "start_time": "2023-01-26T20:02:05.490677",
     "status": "completed"
    },
    "tags": []
   },
   "outputs": [],
   "source": [
    "train=data[:891]\n",
    "test=data[891:]"
   ]
  },
  {
   "cell_type": "code",
   "execution_count": 47,
   "id": "36197c5d",
   "metadata": {
    "execution": {
     "iopub.execute_input": "2023-01-26T20:02:05.557445Z",
     "iopub.status.busy": "2023-01-26T20:02:05.556756Z",
     "iopub.status.idle": "2023-01-26T20:02:05.561567Z",
     "shell.execute_reply": "2023-01-26T20:02:05.560488Z"
    },
    "papermill": {
     "duration": 0.026851,
     "end_time": "2023-01-26T20:02:05.563701",
     "exception": false,
     "start_time": "2023-01-26T20:02:05.536850",
     "status": "completed"
    },
    "tags": []
   },
   "outputs": [],
   "source": [
    "y=train[\"Survived\"]"
   ]
  },
  {
   "cell_type": "code",
   "execution_count": 48,
   "id": "feb07b4b",
   "metadata": {
    "execution": {
     "iopub.execute_input": "2023-01-26T20:02:05.602752Z",
     "iopub.status.busy": "2023-01-26T20:02:05.602312Z",
     "iopub.status.idle": "2023-01-26T20:02:05.609298Z",
     "shell.execute_reply": "2023-01-26T20:02:05.608421Z"
    },
    "papermill": {
     "duration": 0.029371,
     "end_time": "2023-01-26T20:02:05.611436",
     "exception": false,
     "start_time": "2023-01-26T20:02:05.582065",
     "status": "completed"
    },
    "tags": []
   },
   "outputs": [],
   "source": [
    "x=train.drop(\"Survived\",axis=1)"
   ]
  },
  {
   "cell_type": "markdown",
   "id": "6944e522",
   "metadata": {
    "papermill": {
     "duration": 0.017887,
     "end_time": "2023-01-26T20:02:05.647656",
     "exception": false,
     "start_time": "2023-01-26T20:02:05.629769",
     "status": "completed"
    },
    "tags": []
   },
   "source": [
    "# Train Test Split"
   ]
  },
  {
   "cell_type": "code",
   "execution_count": 49,
   "id": "ac60e371",
   "metadata": {
    "execution": {
     "iopub.execute_input": "2023-01-26T20:02:05.686108Z",
     "iopub.status.busy": "2023-01-26T20:02:05.685494Z",
     "iopub.status.idle": "2023-01-26T20:02:05.698555Z",
     "shell.execute_reply": "2023-01-26T20:02:05.697631Z"
    },
    "papermill": {
     "duration": 0.034894,
     "end_time": "2023-01-26T20:02:05.700800",
     "exception": false,
     "start_time": "2023-01-26T20:02:05.665906",
     "status": "completed"
    },
    "tags": []
   },
   "outputs": [],
   "source": [
    "def classification_funct(x,y):\n",
    "    from sklearn.naive_bayes import GaussianNB\n",
    "    from sklearn.naive_bayes import BernoulliNB\n",
    "    from sklearn.svm import SVC\n",
    "    from sklearn.neighbors import KNeighborsClassifier\n",
    "    from sklearn.tree import DecisionTreeClassifier\n",
    "    from sklearn.ensemble import RandomForestClassifier\n",
    "    from sklearn.linear_model import LogisticRegression\n",
    "    from sklearn.ensemble import GradientBoostingClassifier\n",
    "    from sklearn.model_selection import train_test_split,GridSearchCV\n",
    "\n",
    "    from sklearn.metrics import accuracy_score,precision_score,recall_score,f1_score\n",
    "    from sklearn.metrics import confusion_matrix,classification_report\n",
    "              \n",
    "    g=GaussianNB()\n",
    "    b=BernoulliNB()\n",
    "    KN=KNeighborsClassifier()\n",
    "    SVC=SVC() \n",
    "    D=DecisionTreeClassifier()\n",
    "    R=RandomForestClassifier()\n",
    "    Log=LogisticRegression()\n",
    "    G=GradientBoostingClassifier()\n",
    "      \n",
    "    x_train,x_test,y_train,y_test=train_test_split(x,y,test_size=0.20,stratify=y,random_state=0)\n",
    "    \n",
    "    \n",
    "    algos=[g,b,KN,SVC,D,R,Log,G]\n",
    "    algo_names=['GaussianNB','BernoulliNB','KNeighborsClassifier','SVC','DecisionTreeClassifier','RandomForestClassifier','LogisticRegression','GradientBoostingClassifier']\n",
    "    \n",
    "    accuracy_scored=[]\n",
    "    precision_scored=[]\n",
    "    recall_scored=[]\n",
    "    f1_scored=[]\n",
    "        \n",
    "    print(x_train.shape,x_test.shape,y_train.shape,y_test.shape)\n",
    "    \n",
    "    for item in algos:\n",
    "\n",
    "        predict=item.fit(x_train,y_train).predict(x_test)\n",
    "        \n",
    "        \n",
    "        accuracy_scored.append(accuracy_score(y_test,predict))\n",
    "        precision_scored.append(precision_score(y_test,predict))\n",
    "        recall_scored.append(recall_score(y_test,predict))\n",
    "        f1_scored.append(f1_score(y_test,predict))\n",
    "\n",
    "    result=pd.DataFrame(columns=['accuracy_score','f1_score','recall_score','precision_score'],index=algo_names)\n",
    "    result['accuracy_score']=accuracy_scored\n",
    "    result['f1_score']=f1_scored\n",
    "    result['recall_score']=recall_scored\n",
    "    result['precision_score']=precision_scored\n",
    "    \n",
    "    return result.sort_values('accuracy_score',ascending=False)"
   ]
  },
  {
   "cell_type": "code",
   "execution_count": 50,
   "id": "e33bfd4c",
   "metadata": {
    "execution": {
     "iopub.execute_input": "2023-01-26T20:02:05.739519Z",
     "iopub.status.busy": "2023-01-26T20:02:05.738868Z",
     "iopub.status.idle": "2023-01-26T20:02:06.595286Z",
     "shell.execute_reply": "2023-01-26T20:02:06.594363Z"
    },
    "papermill": {
     "duration": 0.878457,
     "end_time": "2023-01-26T20:02:06.597634",
     "exception": false,
     "start_time": "2023-01-26T20:02:05.719177",
     "status": "completed"
    },
    "tags": []
   },
   "outputs": [
    {
     "name": "stdout",
     "output_type": "stream",
     "text": [
      "(712, 12) (179, 12) (712,) (179,)\n"
     ]
    },
    {
     "data": {
      "text/html": [
       "<div>\n",
       "<style scoped>\n",
       "    .dataframe tbody tr th:only-of-type {\n",
       "        vertical-align: middle;\n",
       "    }\n",
       "\n",
       "    .dataframe tbody tr th {\n",
       "        vertical-align: top;\n",
       "    }\n",
       "\n",
       "    .dataframe thead th {\n",
       "        text-align: right;\n",
       "    }\n",
       "</style>\n",
       "<table border=\"1\" class=\"dataframe\">\n",
       "  <thead>\n",
       "    <tr style=\"text-align: right;\">\n",
       "      <th></th>\n",
       "      <th>accuracy_score</th>\n",
       "      <th>f1_score</th>\n",
       "      <th>recall_score</th>\n",
       "      <th>precision_score</th>\n",
       "    </tr>\n",
       "  </thead>\n",
       "  <tbody>\n",
       "    <tr>\n",
       "      <th>GradientBoostingClassifier</th>\n",
       "      <td>0.860335</td>\n",
       "      <td>0.806202</td>\n",
       "      <td>0.753623</td>\n",
       "      <td>0.866667</td>\n",
       "    </tr>\n",
       "    <tr>\n",
       "      <th>LogisticRegression</th>\n",
       "      <td>0.810056</td>\n",
       "      <td>0.730159</td>\n",
       "      <td>0.666667</td>\n",
       "      <td>0.807018</td>\n",
       "    </tr>\n",
       "    <tr>\n",
       "      <th>GaussianNB</th>\n",
       "      <td>0.782123</td>\n",
       "      <td>0.702290</td>\n",
       "      <td>0.666667</td>\n",
       "      <td>0.741935</td>\n",
       "    </tr>\n",
       "    <tr>\n",
       "      <th>RandomForestClassifier</th>\n",
       "      <td>0.782123</td>\n",
       "      <td>0.688000</td>\n",
       "      <td>0.623188</td>\n",
       "      <td>0.767857</td>\n",
       "    </tr>\n",
       "    <tr>\n",
       "      <th>BernoulliNB</th>\n",
       "      <td>0.776536</td>\n",
       "      <td>0.705882</td>\n",
       "      <td>0.695652</td>\n",
       "      <td>0.716418</td>\n",
       "    </tr>\n",
       "    <tr>\n",
       "      <th>DecisionTreeClassifier</th>\n",
       "      <td>0.759777</td>\n",
       "      <td>0.676692</td>\n",
       "      <td>0.652174</td>\n",
       "      <td>0.703125</td>\n",
       "    </tr>\n",
       "    <tr>\n",
       "      <th>KNeighborsClassifier</th>\n",
       "      <td>0.715084</td>\n",
       "      <td>0.592000</td>\n",
       "      <td>0.536232</td>\n",
       "      <td>0.660714</td>\n",
       "    </tr>\n",
       "    <tr>\n",
       "      <th>SVC</th>\n",
       "      <td>0.625698</td>\n",
       "      <td>0.336634</td>\n",
       "      <td>0.246377</td>\n",
       "      <td>0.531250</td>\n",
       "    </tr>\n",
       "  </tbody>\n",
       "</table>\n",
       "</div>"
      ],
      "text/plain": [
       "                            accuracy_score  f1_score  recall_score  \\\n",
       "GradientBoostingClassifier        0.860335  0.806202      0.753623   \n",
       "LogisticRegression                0.810056  0.730159      0.666667   \n",
       "GaussianNB                        0.782123  0.702290      0.666667   \n",
       "RandomForestClassifier            0.782123  0.688000      0.623188   \n",
       "BernoulliNB                       0.776536  0.705882      0.695652   \n",
       "DecisionTreeClassifier            0.759777  0.676692      0.652174   \n",
       "KNeighborsClassifier              0.715084  0.592000      0.536232   \n",
       "SVC                               0.625698  0.336634      0.246377   \n",
       "\n",
       "                            precision_score  \n",
       "GradientBoostingClassifier         0.866667  \n",
       "LogisticRegression                 0.807018  \n",
       "GaussianNB                         0.741935  \n",
       "RandomForestClassifier             0.767857  \n",
       "BernoulliNB                        0.716418  \n",
       "DecisionTreeClassifier             0.703125  \n",
       "KNeighborsClassifier               0.660714  \n",
       "SVC                                0.531250  "
      ]
     },
     "execution_count": 50,
     "metadata": {},
     "output_type": "execute_result"
    }
   ],
   "source": [
    "classification_funct(x,y)"
   ]
  },
  {
   "cell_type": "code",
   "execution_count": 51,
   "id": "230e453b",
   "metadata": {
    "execution": {
     "iopub.execute_input": "2023-01-26T20:02:06.638514Z",
     "iopub.status.busy": "2023-01-26T20:02:06.638045Z",
     "iopub.status.idle": "2023-01-26T20:02:06.643113Z",
     "shell.execute_reply": "2023-01-26T20:02:06.642253Z"
    },
    "papermill": {
     "duration": 0.02866,
     "end_time": "2023-01-26T20:02:06.645868",
     "exception": false,
     "start_time": "2023-01-26T20:02:06.617208",
     "status": "completed"
    },
    "tags": []
   },
   "outputs": [],
   "source": [
    "from sklearn.ensemble import GradientBoostingClassifier"
   ]
  },
  {
   "cell_type": "code",
   "execution_count": 52,
   "id": "d5d8a468",
   "metadata": {
    "execution": {
     "iopub.execute_input": "2023-01-26T20:02:06.685626Z",
     "iopub.status.busy": "2023-01-26T20:02:06.685219Z",
     "iopub.status.idle": "2023-01-26T20:02:06.689217Z",
     "shell.execute_reply": "2023-01-26T20:02:06.688406Z"
    },
    "papermill": {
     "duration": 0.026376,
     "end_time": "2023-01-26T20:02:06.691294",
     "exception": false,
     "start_time": "2023-01-26T20:02:06.664918",
     "status": "completed"
    },
    "tags": []
   },
   "outputs": [],
   "source": [
    "G=GradientBoostingClassifier()"
   ]
  },
  {
   "cell_type": "code",
   "execution_count": 53,
   "id": "b9137e21",
   "metadata": {
    "execution": {
     "iopub.execute_input": "2023-01-26T20:02:06.731102Z",
     "iopub.status.busy": "2023-01-26T20:02:06.730347Z",
     "iopub.status.idle": "2023-01-26T20:02:06.867378Z",
     "shell.execute_reply": "2023-01-26T20:02:06.866113Z"
    },
    "papermill": {
     "duration": 0.159987,
     "end_time": "2023-01-26T20:02:06.870124",
     "exception": false,
     "start_time": "2023-01-26T20:02:06.710137",
     "status": "completed"
    },
    "tags": []
   },
   "outputs": [
    {
     "data": {
      "text/plain": [
       "GradientBoostingClassifier()"
      ]
     },
     "execution_count": 53,
     "metadata": {},
     "output_type": "execute_result"
    }
   ],
   "source": [
    "G.fit(x,y)"
   ]
  },
  {
   "cell_type": "code",
   "execution_count": 54,
   "id": "4ede8804",
   "metadata": {
    "execution": {
     "iopub.execute_input": "2023-01-26T20:02:06.909864Z",
     "iopub.status.busy": "2023-01-26T20:02:06.909402Z",
     "iopub.status.idle": "2023-01-26T20:02:06.914964Z",
     "shell.execute_reply": "2023-01-26T20:02:06.913949Z"
    },
    "papermill": {
     "duration": 0.027836,
     "end_time": "2023-01-26T20:02:06.916992",
     "exception": false,
     "start_time": "2023-01-26T20:02:06.889156",
     "status": "completed"
    },
    "tags": []
   },
   "outputs": [],
   "source": [
    "del test[\"Survived\"]"
   ]
  },
  {
   "cell_type": "code",
   "execution_count": 55,
   "id": "a8b42349",
   "metadata": {
    "execution": {
     "iopub.execute_input": "2023-01-26T20:02:06.959908Z",
     "iopub.status.busy": "2023-01-26T20:02:06.959157Z",
     "iopub.status.idle": "2023-01-26T20:02:06.967064Z",
     "shell.execute_reply": "2023-01-26T20:02:06.966158Z"
    },
    "papermill": {
     "duration": 0.030839,
     "end_time": "2023-01-26T20:02:06.969292",
     "exception": false,
     "start_time": "2023-01-26T20:02:06.938453",
     "status": "completed"
    },
    "tags": []
   },
   "outputs": [],
   "source": [
    "tahmin=G.predict(test)"
   ]
  },
  {
   "cell_type": "code",
   "execution_count": 56,
   "id": "dbc9704f",
   "metadata": {
    "execution": {
     "iopub.execute_input": "2023-01-26T20:02:07.008817Z",
     "iopub.status.busy": "2023-01-26T20:02:07.008409Z",
     "iopub.status.idle": "2023-01-26T20:02:07.014455Z",
     "shell.execute_reply": "2023-01-26T20:02:07.013376Z"
    },
    "papermill": {
     "duration": 0.028595,
     "end_time": "2023-01-26T20:02:07.016803",
     "exception": false,
     "start_time": "2023-01-26T20:02:06.988208",
     "status": "completed"
    },
    "tags": []
   },
   "outputs": [],
   "source": [
    "sonuc=df2[[\"PassengerId\"]]"
   ]
  },
  {
   "cell_type": "code",
   "execution_count": 57,
   "id": "e378b7c3",
   "metadata": {
    "execution": {
     "iopub.execute_input": "2023-01-26T20:02:07.056881Z",
     "iopub.status.busy": "2023-01-26T20:02:07.056469Z",
     "iopub.status.idle": "2023-01-26T20:02:07.062510Z",
     "shell.execute_reply": "2023-01-26T20:02:07.061678Z"
    },
    "papermill": {
     "duration": 0.028469,
     "end_time": "2023-01-26T20:02:07.064507",
     "exception": false,
     "start_time": "2023-01-26T20:02:07.036038",
     "status": "completed"
    },
    "tags": []
   },
   "outputs": [],
   "source": [
    "sonuc[\"Survived\"]=tahmin"
   ]
  },
  {
   "cell_type": "code",
   "execution_count": 58,
   "id": "217cc64a",
   "metadata": {
    "execution": {
     "iopub.execute_input": "2023-01-26T20:02:07.104911Z",
     "iopub.status.busy": "2023-01-26T20:02:07.103809Z",
     "iopub.status.idle": "2023-01-26T20:02:07.110462Z",
     "shell.execute_reply": "2023-01-26T20:02:07.109369Z"
    },
    "papermill": {
     "duration": 0.029291,
     "end_time": "2023-01-26T20:02:07.112895",
     "exception": false,
     "start_time": "2023-01-26T20:02:07.083604",
     "status": "completed"
    },
    "tags": []
   },
   "outputs": [],
   "source": [
    "sonuc[\"Survived\"]=sonuc[\"Survived\"].astype(\"int64\")"
   ]
  },
  {
   "cell_type": "code",
   "execution_count": 59,
   "id": "f68dcc2e",
   "metadata": {
    "execution": {
     "iopub.execute_input": "2023-01-26T20:02:07.152305Z",
     "iopub.status.busy": "2023-01-26T20:02:07.151883Z",
     "iopub.status.idle": "2023-01-26T20:02:07.160351Z",
     "shell.execute_reply": "2023-01-26T20:02:07.159242Z"
    },
    "papermill": {
     "duration": 0.031125,
     "end_time": "2023-01-26T20:02:07.163021",
     "exception": false,
     "start_time": "2023-01-26T20:02:07.131896",
     "status": "completed"
    },
    "tags": []
   },
   "outputs": [],
   "source": [
    "sonuc.to_csv(\"titanicprediction.csv\",index=False)"
   ]
  },
  {
   "cell_type": "markdown",
   "id": "22392e52",
   "metadata": {
    "papermill": {
     "duration": 0.018665,
     "end_time": "2023-01-26T20:02:07.201240",
     "exception": false,
     "start_time": "2023-01-26T20:02:07.182575",
     "status": "completed"
    },
    "tags": []
   },
   "source": [
    "# Note: LogisticRegression gave the highest value. Result:0.860335"
   ]
  },
  {
   "cell_type": "code",
   "execution_count": null,
   "id": "1bd9f19c",
   "metadata": {
    "papermill": {
     "duration": 0.018627,
     "end_time": "2023-01-26T20:02:07.238922",
     "exception": false,
     "start_time": "2023-01-26T20:02:07.220295",
     "status": "completed"
    },
    "tags": []
   },
   "outputs": [],
   "source": []
  }
 ],
 "metadata": {
  "kernelspec": {
   "display_name": "Python 3 (ipykernel)",
   "language": "python",
   "name": "python3"
  },
  "language_info": {
   "codemirror_mode": {
    "name": "ipython",
    "version": 3
   },
   "file_extension": ".py",
   "mimetype": "text/x-python",
   "name": "python",
   "nbconvert_exporter": "python",
   "pygments_lexer": "ipython3",
   "version": "3.9.12"
  },
  "papermill": {
   "default_parameters": {},
   "duration": 15.076912,
   "end_time": "2023-01-26T20:02:07.981123",
   "environment_variables": {},
   "exception": null,
   "input_path": "__notebook__.ipynb",
   "output_path": "__notebook__.ipynb",
   "parameters": {},
   "start_time": "2023-01-26T20:01:52.904211",
   "version": "2.3.4"
  }
 },
 "nbformat": 4,
 "nbformat_minor": 5
}
